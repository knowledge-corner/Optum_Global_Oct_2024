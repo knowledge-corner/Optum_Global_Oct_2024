{
 "cells": [
  {
   "cell_type": "markdown",
   "metadata": {
    "id": "47x11IZfaQpb"
   },
   "source": [
    "# Dataframe\n",
    "\n",
    "A DataFrame is two dimensional data structure where the data is arranged in the tabular format in rows and columns\n",
    "\n",
    "#### DataFrame features:\n",
    "\n",
    "- Columns can be of different data types\n",
    "- Size of dataframe can be changes\n",
    "- Axes(rows and columns) are labeled\n",
    "- Arithmetic operations can be performed on rows and columns"
   ]
  },
  {
   "cell_type": "markdown",
   "metadata": {
    "id": "XsuLFl42aQpc"
   },
   "source": [
    "### Creating Dataframes"
   ]
  },
  {
   "cell_type": "code",
   "execution_count": null,
   "metadata": {
    "id": "XU9yQthlaQpc"
   },
   "outputs": [],
   "source": [
    "employees = {\"Name\" : [\"Jack\", \"Bill\", \"Lizie\", \"Jane\", \"George\"],\n",
    "            \"Designation\" : [\"HR\", \"Manager\", \"Developer\", \"Intern\", \"Manager\"],\n",
    "            \"Salary\": [40000, 60000, 25000, 12000, 70000]}\n",
    "\n",
    "df = pd.DataFrame(employees)\n",
    "df"
   ]
  },
  {
   "cell_type": "markdown",
   "metadata": {
    "id": "2BTO39a_aQpc"
   },
   "source": [
    "### Accessing Dataframes"
   ]
  },
  {
   "cell_type": "code",
   "execution_count": null,
   "metadata": {
    "id": "vkbDFU-taQpc"
   },
   "outputs": [],
   "source": [
    "df.Name"
   ]
  },
  {
   "cell_type": "code",
   "execution_count": null,
   "metadata": {
    "id": "vkbDFU-taQpc"
   },
   "outputs": [],
   "source": [
    "df[\"Name\"]"
   ]
  },
  {
   "cell_type": "code",
   "execution_count": null,
   "metadata": {
    "id": "vkbDFU-taQpc"
   },
   "outputs": [],
   "source": [
    "df[[\"Name\", \"Salary\"]]"
   ]
  },
  {
   "cell_type": "markdown",
   "metadata": {
    "id": "xhttBDOzaQpd"
   },
   "source": [
    "### Operations on dataframes"
   ]
  },
  {
   "cell_type": "markdown",
   "metadata": {
    "id": "gxF17HubaQpd"
   },
   "source": [
    "###### Ex. Average Salary"
   ]
  },
  {
   "cell_type": "code",
   "execution_count": null,
   "metadata": {
    "id": "XORPMsvVaQpe"
   },
   "outputs": [],
   "source": [
    "df.Salary.mean()"
   ]
  },
  {
   "cell_type": "markdown",
   "metadata": {
    "id": "5uyCtQxraQpe"
   },
   "source": [
    "###### Ex. Average Salary of managers"
   ]
  },
  {
   "cell_type": "code",
   "execution_count": null,
   "metadata": {
    "id": "vEnS8bVnaQpe"
   },
   "outputs": [],
   "source": [
    "df[df.Designation == \"Manager\"].Salary.mean()"
   ]
  },
  {
   "cell_type": "markdown",
   "metadata": {
    "id": "2Kt24MypaQpe"
   },
   "source": [
    "### Concataneting and Merging Dataframes"
   ]
  },
  {
   "cell_type": "code",
   "execution_count": null,
   "metadata": {},
   "outputs": [],
   "source": [
    "df_jan = pd.DataFrame({\"Order ID\" : range(101, 111), \"Sales\" : np.random.randint(10000, 50000, 10)})\n",
    "df_feb = pd.DataFrame({\"Order ID\" : range(111, 121), \"Sales\" : np.random.randint(10000, 50000, 10)})\n",
    "df_mar = pd.DataFrame({\"Order ID\" : range(121, 131), \"Sales\" : np.random.randint(10000, 50000, 10)})"
   ]
  },
  {
   "cell_type": "markdown",
   "metadata": {
    "id": "CSGtWyPvaQpf"
   },
   "source": [
    "#### Concatenate\n",
    "pd.concat(`tuple of dfs`, `ignore_index = False`, `axis=0`)"
   ]
  },
  {
   "cell_type": "code",
   "execution_count": null,
   "metadata": {
    "id": "xOJ19ptzaQpf"
   },
   "outputs": [],
   "source": [
    "pd.concat((df_jan, df_feb, df_mar), ignore_index=True)"
   ]
  },
  {
   "cell_type": "code",
   "execution_count": null,
   "metadata": {
    "id": "xOJ19ptzaQpf"
   },
   "outputs": [],
   "source": [
    "pd.concat((df_jan, df_feb, df_mar), axis=1)"
   ]
  },
  {
   "cell_type": "markdown",
   "metadata": {
    "id": "KQk4_kSdaQpf"
   },
   "source": [
    "#### Merging Dataframes\n",
    "\n",
    "`df1.merge(df2, how=\"\", left_on=\"\", right_on=\"\", left_index= \"\" , right_index=\"\")`"
   ]
  },
  {
   "cell_type": "code",
   "execution_count": null,
   "metadata": {
    "id": "p7S2LaPwaQpf"
   },
   "outputs": [],
   "source": [
    "df_emp = pd.DataFrame({\"Name\" : [\"Jack\", \"Bill\", \"Lizie\", \"Jane\", \"George\"],\n",
    "            \"Designation\" : [\"HR\", \"Manager\", \"Developer\", \"Intern\", \"Manager\"]})\n",
    "df_emp"
   ]
  },
  {
   "cell_type": "code",
   "execution_count": null,
   "metadata": {
    "id": "NTCO1HA9aQpf"
   },
   "outputs": [],
   "source": [
    "base_salaries = pd.DataFrame({\"Designation\" : [\"HR\", \"Developer\", \"Manager\", \"Senior Manager\"],\n",
    "            \"Salary\": [40000, 25000, 70000, 1000000]})\n",
    "base_salaries"
   ]
  },
  {
   "cell_type": "markdown",
   "metadata": {
    "id": "FEn8LGSQaQpf"
   },
   "source": [
    "#### Inner Merge"
   ]
  },
  {
   "cell_type": "code",
   "execution_count": null,
   "metadata": {
    "id": "-dfkvBy1aQpf"
   },
   "outputs": [],
   "source": [
    "df_emp.merge(base_salaries, how=\"inner\", on = \"Designation\")  # returns only common rows"
   ]
  },
  {
   "cell_type": "markdown",
   "metadata": {
    "id": "ItIkstn4aQpg"
   },
   "source": [
    "#### Left Merge"
   ]
  },
  {
   "cell_type": "code",
   "execution_count": null,
   "metadata": {
    "id": "VuonLUSPaQpg"
   },
   "outputs": [],
   "source": [
    "df_emp.merge(base_salaries, how=\"left\", on = \"Designation\")  # returns all rows from left table"
   ]
  },
  {
   "cell_type": "markdown",
   "metadata": {
    "id": "G2olAncNaQpg"
   },
   "source": [
    "#### Right Merge"
   ]
  },
  {
   "cell_type": "code",
   "execution_count": null,
   "metadata": {
    "id": "Zm7xmbCGaQpg"
   },
   "outputs": [],
   "source": [
    "df_emp.merge(base_salaries, how=\"right\", on = \"Designation\")  # returns all rows from right table"
   ]
  },
  {
   "cell_type": "markdown",
   "metadata": {
    "id": "hNpBKsrCaQpg"
   },
   "source": [
    "#### Outer Merge"
   ]
  },
  {
   "cell_type": "code",
   "execution_count": null,
   "metadata": {
    "id": "x1fbrsSGaQpg"
   },
   "outputs": [],
   "source": [
    "df_emp.merge(base_salaries, how=\"outer\", on = \"Designation\")  # returns all rows from both tables"
   ]
  },
  {
   "cell_type": "markdown",
   "metadata": {},
   "source": [
    "### Read data from files"
   ]
  },
  {
   "cell_type": "markdown",
   "metadata": {
    "id": "-SsECgH6aQpj"
   },
   "source": [
    "###### Ex. Read data from `coffee_sales.csv`"
   ]
  },
  {
   "cell_type": "markdown",
   "metadata": {
    "id": "mBAJGrV2aQpj"
   },
   "source": [
    "###### Approach 1"
   ]
  },
  {
   "cell_type": "code",
   "execution_count": null,
   "metadata": {},
   "outputs": [],
   "source": [
    "df = pd.read_csv(\"coffee_sales.csv\", header=3)\n",
    "df.drop(columns=['Unnamed: 0'], inplace=True)\n",
    "df"
   ]
  },
  {
   "cell_type": "markdown",
   "metadata": {
    "id": "eLCMw924aQpm"
   },
   "source": [
    "### Drop null rows\n",
    "df.dropna(`axis = 0`, `how = \"any\"`, `inplace = False`)\n",
    "- axis 0 for row or 1 for column\n",
    "- how - {any or all}"
   ]
  },
  {
   "cell_type": "code",
   "execution_count": null,
   "metadata": {
    "id": "319H3bxraQpm"
   },
   "outputs": [],
   "source": [
    "df = pd.read_csv(\"coffee_sales.csv\")\n",
    "df.dropna(how=\"all\", inplace=True)\n",
    "df.dropna(how=\"all\", axis=1, inplace=True)\n",
    "df.columns = df.iloc[0]\n",
    "df"
   ]
  },
  {
   "cell_type": "markdown",
   "metadata": {
    "id": "Wyt3gvJkaQpm"
   },
   "source": [
    "### Renaming a Columns"
   ]
  },
  {
   "cell_type": "markdown",
   "metadata": {
    "id": "SLFDWCNhaQpm"
   },
   "source": [
    "###### Rename Columns (column 5 - 8 are not accessible)"
   ]
  },
  {
   "cell_type": "code",
   "execution_count": null,
   "metadata": {
    "id": "2lFqRxSQaQpn"
   },
   "outputs": [],
   "source": [
    "headers = [\"ShopID\", \"Year/Month\", \"Product\", \"Product Type\", \"State\", \"Target Profit\", \"Target Sales\", \"Profit\", \"Sales\"]\n",
    "df.columns = headers"
   ]
  },
  {
   "cell_type": "code",
   "execution_count": null,
   "metadata": {},
   "outputs": [],
   "source": [
    "df_customer = pd.read_csv(\"customers.txt\", header=None)\n",
    "df_customer.columns = [\"Customer ID\", \"FName\", \"LName\", \"Age\", \"Profession\"]\n",
    "df_customer.head()"
   ]
  },
  {
   "cell_type": "markdown",
   "metadata": {
    "id": "ULHNtEg1aQpn"
   },
   "source": [
    "#### Rename Single Column"
   ]
  },
  {
   "cell_type": "code",
   "execution_count": null,
   "metadata": {
    "id": "Q1u76SjxaQpn"
   },
   "outputs": [],
   "source": [
    "df_customer.rename({\"FName\" : \"First Name\", \"LName\" : \"Last Name\"}, axis=1)"
   ]
  },
  {
   "cell_type": "markdown",
   "metadata": {
    "id": "0j71BjYoaQpn"
   },
   "source": [
    "### Understanding Data in Dataframe\n",
    "\n",
    "- `df.shape` - gives the size of the dataframe in the format (row_count x column_count)\n",
    "- `df.dtypes` - returns a Series with the data type of each column\n",
    "- `df.info()` - prints information about a DataFrame including the index dtype and columns, non-null values and memory usage\n",
    "- `df.head()` - prints the first 5 rows of you dataset including column header and the content of each row\n",
    "- `df.tail()` - prints the last 5 rows of you dataset including column header and the content of each row"
   ]
  },
  {
   "cell_type": "code",
   "execution_count": null,
   "metadata": {
    "id": "3qcO_FpVaQpn"
   },
   "outputs": [],
   "source": [
    "df.shape"
   ]
  },
  {
   "cell_type": "code",
   "execution_count": null,
   "metadata": {
    "id": "Ld93P56caQpn"
   },
   "outputs": [],
   "source": [
    "df.dtypes"
   ]
  },
  {
   "cell_type": "code",
   "execution_count": null,
   "metadata": {
    "id": "xfycjqXWaQpo"
   },
   "outputs": [],
   "source": [
    "df.info()"
   ]
  },
  {
   "cell_type": "code",
   "execution_count": null,
   "metadata": {
    "id": "9C86SjRmaQpo"
   },
   "outputs": [],
   "source": [
    "df.head()"
   ]
  },
  {
   "cell_type": "code",
   "execution_count": null,
   "metadata": {
    "id": "NOwl83yVaQpo"
   },
   "outputs": [],
   "source": [
    "df.head(3)"
   ]
  },
  {
   "cell_type": "code",
   "execution_count": null,
   "metadata": {
    "id": "fYRCzZUPaQpo"
   },
   "outputs": [],
   "source": [
    "df.tail()"
   ]
  },
  {
   "cell_type": "code",
   "execution_count": null,
   "metadata": {
    "id": "ATgfSROEaQpo"
   },
   "outputs": [],
   "source": [
    "df.tail(3)"
   ]
  },
  {
   "cell_type": "markdown",
   "metadata": {},
   "source": [
    "### Cleaning data"
   ]
  },
  {
   "cell_type": "code",
   "execution_count": null,
   "metadata": {},
   "outputs": [],
   "source": [
    "trans_obj = str.maketrans(\"\", \"\", \"$,\")\n",
    "df.Sales = df.Sales.str.translate(trans_obj).astype(float)\n",
    "df.Profit = df.Profit.str.translate(trans_obj).astype(float)\n",
    "df[\"Target Profit\"] = df[\"Target Profit\"].str.translate(trans_obj).astype(float)\n",
    "df[\"Target Sales\"] = df[\"Target Sales\"].str.translate(trans_obj).astype(float)\n",
    "df.head()"
   ]
  },
  {
   "cell_type": "markdown",
   "metadata": {
    "id": "_eTN-WE8aQpq"
   },
   "source": [
    "### Working with **null** values\n",
    "\n",
    "`df.isna()` - Detect missing values. Return a boolean same-sized object indicating if the values are NA.\n",
    "\n",
    "`df.fillna(value=None, inplace=False)` - Fill NA/NaN values using the specified method."
   ]
  },
  {
   "cell_type": "code",
   "execution_count": null,
   "metadata": {
    "id": "m-vBFbslaQpq"
   },
   "outputs": [],
   "source": [
    "df.isna().any()"
   ]
  },
  {
   "cell_type": "code",
   "execution_count": null,
   "metadata": {
    "id": "m-vBFbslaQpq"
   },
   "outputs": [],
   "source": [
    "df.isna().sum()"
   ]
  },
  {
   "cell_type": "code",
   "execution_count": null,
   "metadata": {},
   "outputs": [],
   "source": [
    "df[\"Target Profit\"].fillna(0, inplace=True)  # older versions"
   ]
  },
  {
   "cell_type": "code",
   "execution_count": null,
   "metadata": {},
   "outputs": [],
   "source": [
    "df.fillna({\"Target Profit\" : 0}, inplace=True)  # new versions"
   ]
  },
  {
   "cell_type": "markdown",
   "metadata": {
    "id": "EgteLlmQaQpr"
   },
   "source": [
    "### Replacing values\n",
    "\n",
    "df.replace(old_value, new_value, inplace=True)"
   ]
  },
  {
   "cell_type": "code",
   "execution_count": null,
   "metadata": {
    "id": "3AtOmRVHaQpr"
   },
   "outputs": [],
   "source": [
    "df.City.replace({\"Mumbai\" : \"Bombay\"})"
   ]
  },
  {
   "cell_type": "markdown",
   "metadata": {
    "id": "5NZZ0mFhaQpr"
   },
   "source": [
    "### Adding a new Column by calculation"
   ]
  },
  {
   "cell_type": "markdown",
   "metadata": {
    "id": "HD0rBNHuaQps"
   },
   "source": [
    "###### Ex. Create columns showing `Sales` and `Profit` targets achieved"
   ]
  },
  {
   "cell_type": "code",
   "execution_count": null,
   "metadata": {
    "id": "q5yHUyFPaQps"
   },
   "outputs": [],
   "source": [
    "# Level of detail - Monthly data from Franchises and Product in each Franchise"
   ]
  },
  {
   "cell_type": "code",
   "execution_count": null,
   "metadata": {},
   "outputs": [],
   "source": [
    "df[\"Sales Target Status\"] = np.where(df.Sales > df[\"Target Sales\"], \"Achieved\", \"Not Achieved\")\n",
    "df.head()"
   ]
  },
  {
   "cell_type": "markdown",
   "metadata": {
    "id": "OgMsCXjIaQps"
   },
   "source": [
    "###### Ex. Count the number times Targets are achieved"
   ]
  },
  {
   "cell_type": "code",
   "execution_count": null,
   "metadata": {
    "id": "9KcuJ_fraQps"
   },
   "outputs": [],
   "source": [
    "df[\"Sales Target Status\"].value_counts()"
   ]
  },
  {
   "cell_type": "code",
   "execution_count": null,
   "metadata": {
    "id": "9KcuJ_fraQps"
   },
   "outputs": [],
   "source": [
    "df[\"Sales Target Status\"].value_counts(normalize=True)* 100"
   ]
  },
  {
   "cell_type": "markdown",
   "metadata": {
    "id": "cBMGbqmsaQpt"
   },
   "source": [
    "### Creating a bar chart to view Target Status"
   ]
  },
  {
   "cell_type": "markdown",
   "metadata": {
    "id": "TKon3pLvaQpu"
   },
   "source": [
    "#### using pandas"
   ]
  },
  {
   "cell_type": "code",
   "execution_count": null,
   "metadata": {
    "id": "1WfD5XyIaQpu"
   },
   "outputs": [],
   "source": [
    "result = df[\"Sales Target Status\"].value_counts(normalize=True)* 100\n",
    "result.plot(kind = \"bar\", color = [\"palegreen\", \"coral\"])\n",
    "plt.title(\"Counts per City\", size = 10, color = \"darkslategray\")\n",
    "\n",
    "plt.yticks(size = 6,  color = \"darkslategray\")\n",
    "plt.xticks(size = 6,  color = \"darkslategray\")\n",
    "plt.xlabel(\"\")\n",
    "plt.ylabel(\"\")\n",
    "plt.show()"
   ]
  },
  {
   "cell_type": "markdown",
   "metadata": {
    "id": "uSofSsYRaQpu"
   },
   "source": [
    "#### using seaborn"
   ]
  },
  {
   "cell_type": "code",
   "execution_count": null,
   "metadata": {
    "id": "fiSLVyE6aQpu"
   },
   "outputs": [],
   "source": [
    "sns.countplot(df, x = \"Sales Target Status\")\n",
    "plt.show()"
   ]
  },
  {
   "cell_type": "code",
   "execution_count": null,
   "metadata": {
    "id": "fiSLVyE6aQpu"
   },
   "outputs": [],
   "source": [
    "sns.countplot(df, x = \"City\", hue = \"Sales Target Status\", palette=[\"coral\", \"palegreen\"])\n",
    "plt.legend(fontsize  = 6)\n",
    "plt.title(\"Counts per City\", size = 10, color = \"darkslategray\")\n",
    "\n",
    "plt.yticks(size = 6,  color = \"darkslategray\")\n",
    "plt.xticks(size = 6,  color = \"darkslategray\")\n",
    "plt.xlabel(\"\")\n",
    "plt.ylabel(\"\")\n",
    "plt.show()"
   ]
  },
  {
   "cell_type": "markdown",
   "metadata": {
    "id": "6V5ctOdOaQpv"
   },
   "source": [
    "### Setting and Resetting Index"
   ]
  },
  {
   "cell_type": "markdown",
   "metadata": {
    "id": "U9BowMzJaQpw"
   },
   "source": [
    "#### Seting Index\n",
    "`df.set_index(keys, drop=True, inplace=False,)`- Set the DataFrame index (row labels) using one or more existing columns or arrays (of the correct length). The index can replace the existing index or expand on it."
   ]
  },
  {
   "cell_type": "code",
   "execution_count": null,
   "metadata": {
    "id": "eolia_2-aQpw"
   },
   "outputs": [],
   "source": [
    "df.set_index(\"Franchise\", inplace=True)"
   ]
  },
  {
   "cell_type": "code",
   "execution_count": null,
   "metadata": {
    "id": "FpXI8MT4aQpw"
   },
   "outputs": [],
   "source": [
    "df.head()"
   ]
  },
  {
   "cell_type": "markdown",
   "metadata": {
    "id": "BeWuc1vkaQpy"
   },
   "source": [
    "#### Using loc to retrive data\n",
    "\n",
    "- loc is label-based\n",
    "- specify the name of the rows and columns that we need to filter out"
   ]
  },
  {
   "cell_type": "markdown",
   "metadata": {},
   "source": [
    "###### Ex. Extract data for M1 franchise"
   ]
  },
  {
   "cell_type": "code",
   "execution_count": null,
   "metadata": {},
   "outputs": [],
   "source": [
    "df.loc[\"M1\"]"
   ]
  },
  {
   "cell_type": "markdown",
   "metadata": {},
   "source": [
    "###### Ex. Extract Sales and Profit data for M1 franchise"
   ]
  },
  {
   "cell_type": "code",
   "execution_count": null,
   "metadata": {},
   "outputs": [],
   "source": [
    "df.loc[\"M1\", [\"Sales\", \"Profit\"]]"
   ]
  },
  {
   "cell_type": "markdown",
   "metadata": {},
   "source": [
    "###### Ex. Extract Sales and Profit data for M1 & M2 franchise"
   ]
  },
  {
   "cell_type": "code",
   "execution_count": null,
   "metadata": {},
   "outputs": [],
   "source": [
    "df.loc[[\"M1\", \"M2\"], [\"Sales\", \"Profit\"]]"
   ]
  },
  {
   "cell_type": "markdown",
   "metadata": {
    "id": "cnODIqNgaQp4"
   },
   "source": [
    "#### Using iloc to retrive data\n",
    "\n",
    "- iloc is integer index-based\n",
    "- specify rows and columns by their integer index."
   ]
  },
  {
   "cell_type": "markdown",
   "metadata": {},
   "source": [
    "###### Ex. Extract data for first 5 rows"
   ]
  },
  {
   "cell_type": "code",
   "execution_count": null,
   "metadata": {},
   "outputs": [],
   "source": [
    "df.iloc[0:5]"
   ]
  },
  {
   "cell_type": "markdown",
   "metadata": {},
   "source": [
    "###### Ex. Extract data for rown index 10 - 15 rows"
   ]
  },
  {
   "cell_type": "code",
   "execution_count": null,
   "metadata": {},
   "outputs": [],
   "source": [
    "df.iloc[10:16]"
   ]
  },
  {
   "cell_type": "markdown",
   "metadata": {},
   "source": [
    "###### Ex. Extract data for rows index 10 - 15 rows  and first 3 cols"
   ]
  },
  {
   "cell_type": "code",
   "execution_count": null,
   "metadata": {},
   "outputs": [],
   "source": [
    "df.iloc[10:16, 0:3]"
   ]
  },
  {
   "cell_type": "markdown",
   "metadata": {
    "id": "OZCzdxB8aQpw"
   },
   "source": [
    "#### Resetting Index\n",
    "\n",
    "`df.reset_index(level=None, drop=False, inplace=False,)` - Reset the index of the DataFrame, and use the default one instead. If the DataFrame has a MultiIndex, this method can remove one or more levels."
   ]
  },
  {
   "cell_type": "code",
   "execution_count": null,
   "metadata": {},
   "outputs": [],
   "source": [
    "df.reset_index(inplace=True)"
   ]
  },
  {
   "cell_type": "code",
   "execution_count": null,
   "metadata": {},
   "outputs": [],
   "source": [
    "df.head()"
   ]
  },
  {
   "cell_type": "code",
   "execution_count": null,
   "metadata": {},
   "outputs": [],
   "source": [
    "# Final Code - \n",
    "\n",
    "# all imports\n",
    "import numpy as np\n",
    "import pandas as pd\n",
    "import matplotlib.pyplot as plt\n",
    "import seaborn as sns\n",
    "\n",
    "# setting default parameters\n",
    "plt.rcParams[\"figure.figsize\"] = (3, 2)\n",
    "\n",
    "df = pd.read_csv(\"coffee_sales.csv\", header=3) # Read data\n",
    "df.drop(columns=['Unnamed: 0'], inplace=True)  # drop unwanted columns\n",
    "df.dropna(how=\"all\", inplace=True)  # drop blank rows\n",
    "\n",
    "# data cleaning\n",
    "trans_obj = str.maketrans(\"\", \"\", \"$,\")\n",
    "df.Sales = df.Sales.str.translate(trans_obj).astype(float)\n",
    "df.Profit = df.Profit.str.translate(trans_obj).astype(float)\n",
    "df[\"Target Profit\"] = df[\"Target Profit\"].str.translate(trans_obj).astype(float)\n",
    "df[\"Target Sales\"] = df[\"Target Sales\"].str.translate(trans_obj).astype(float)\n",
    "df.Date = pd.to_datetime(df.Date, format = \"mixed\")\n",
    "\n",
    "# Replace nulls\n",
    "df.fillna({\"Target Profit\" : 0}, inplace=True)\n",
    "\n",
    "df[\"Sales Target Status\"] = np.where(df.Sales > df[\"Target Sales\"], \"Achieved\", \"Not Achieved\")\n",
    "df.insert(1, \"Year\", df.Date.dt.year)\n",
    "df.insert(2, \"Month\", df.Date.dt.month_name())\n",
    "df.head(2)"
   ]
  },
  {
   "cell_type": "markdown",
   "metadata": {
    "id": "czcZLDWwaQp7"
   },
   "source": [
    "### Working with dates"
   ]
  },
  {
   "cell_type": "code",
   "execution_count": null,
   "metadata": {
    "id": "KRMBDDqvaQp7"
   },
   "outputs": [],
   "source": [
    "df.Date = pd.to_datetime(df.Date, format = \"mixed\")\n",
    "df.head(2)"
   ]
  },
  {
   "cell_type": "code",
   "execution_count": null,
   "metadata": {},
   "outputs": [],
   "source": [
    "df.Date.dt.strftime(\"%d/%m/%Y\")"
   ]
  },
  {
   "cell_type": "markdown",
   "metadata": {
    "id": "j9maHWoUaQp7"
   },
   "source": [
    "#### Insert a column in between\n",
    "df.insert(`index`, `column_name`, `default_value`)"
   ]
  },
  {
   "cell_type": "markdown",
   "metadata": {
    "id": "dNRt8QUXaQp7"
   },
   "source": [
    "###### Create columns Year and Month - extract data using pd.DatetimeIndex"
   ]
  },
  {
   "cell_type": "code",
   "execution_count": null,
   "metadata": {
    "id": "vyc2GKmOaQp8"
   },
   "outputs": [],
   "source": [
    "df.insert(1, \"Year\", df.Date.dt.year)\n",
    "df.insert(2, \"Month\", df.Date.dt.month_name())\n",
    "df.head(2)"
   ]
  },
  {
   "cell_type": "markdown",
   "metadata": {},
   "source": [
    "###### Ex. Extract data for year 2021"
   ]
  },
  {
   "cell_type": "code",
   "execution_count": null,
   "metadata": {},
   "outputs": [],
   "source": [
    "df[df.Year == 2021]"
   ]
  },
  {
   "cell_type": "code",
   "execution_count": null,
   "metadata": {},
   "outputs": [],
   "source": [
    "df[df.Date == \"2021\"]"
   ]
  },
  {
   "cell_type": "markdown",
   "metadata": {},
   "source": [
    "###### Ex. Extract data from jan-2021 to Apr-2022"
   ]
  },
  {
   "cell_type": "code",
   "execution_count": null,
   "metadata": {},
   "outputs": [],
   "source": [
    "df[df.Date.between(\"2021-01\", \"2022-04\")]"
   ]
  },
  {
   "cell_type": "markdown",
   "metadata": {},
   "source": [
    "###### Ex. Extract data for January"
   ]
  },
  {
   "cell_type": "code",
   "execution_count": null,
   "metadata": {},
   "outputs": [],
   "source": [
    "df[df.Date.dt.month_name() == \"January\"]"
   ]
  },
  {
   "cell_type": "markdown",
   "metadata": {},
   "source": [
    "###### Ex. Extract data for months (jan, apr and nov)"
   ]
  },
  {
   "cell_type": "code",
   "execution_count": null,
   "metadata": {},
   "outputs": [],
   "source": [
    "df[df.Date.dt.month_name().isin((\"January\", \"April\", \"November\"))]"
   ]
  },
  {
   "cell_type": "markdown",
   "metadata": {
    "id": "VmKAkqglaQp-"
   },
   "source": [
    "### Ranking and Sorting Dataframes"
   ]
  },
  {
   "cell_type": "markdown",
   "metadata": {
    "id": "8oM-uFACaQp-"
   },
   "source": [
    "###### Ex. Rank the products in descending order of `Sales`"
   ]
  },
  {
   "cell_type": "code",
   "execution_count": null,
   "metadata": {
    "id": "raFIqSnnaQp-"
   },
   "outputs": [],
   "source": [
    "df.sort_values(\"Sales\", ascending=False)"
   ]
  },
  {
   "cell_type": "markdown",
   "metadata": {
    "id": "VNuIqM6aaQp-"
   },
   "source": [
    "###### Ex. Sort the data in ascending order of `Rank`"
   ]
  },
  {
   "cell_type": "code",
   "execution_count": null,
   "metadata": {
    "id": "Towhj6x8aQp-"
   },
   "outputs": [],
   "source": [
    "df[\"Sales\"].rank()  # Note - works only on series object"
   ]
  },
  {
   "cell_type": "markdown",
   "metadata": {
    "id": "fPvpjhHdaQp_"
   },
   "source": [
    "### Grouping Dataframes"
   ]
  },
  {
   "cell_type": "markdown",
   "metadata": {
    "id": "fV4dbr1faQp_"
   },
   "source": [
    "##### `df.groupby(by=None, as_index=True, sort=True, dropna=True)`"
   ]
  },
  {
   "cell_type": "markdown",
   "metadata": {},
   "source": [
    "###### using matplotlib.pyplot"
   ]
  },
  {
   "cell_type": "code",
   "execution_count": null,
   "metadata": {
    "id": "Xtve-lAkaQp_"
   },
   "outputs": [],
   "source": [
    "result = df.groupby(\"Product\")[\"Sales\"].sum().sort_values(ascending=False)\n",
    "\n",
    "plt.figure(figsize=(7, 2))\n",
    "plt.bar(result.index, result.values,  width = 0.6, color = \"teal\", edgecolor = \"orange\")\n",
    "\n",
    "plt.title(\"Sales across Products\", size = 10, color = \"darkslategray\")\n",
    "plt.grid(axis=\"y\", color = \"orange\", ls = \"--\", alpha = 0.4)\n",
    "\n",
    "plt.xticks(size = 6,  color = \"darkslategray\", rotation = 20)\n",
    "y_ticks = np.arange(0, max(result.values) + 10000, 20000).astype(int)\n",
    "y_labels = (y_ticks // 1000).astype(str) + \"K\"\n",
    "plt.yticks(y_ticks, y_labels, size = 6,  color = \"darkslategray\")\n",
    "plt.show()"
   ]
  },
  {
   "cell_type": "markdown",
   "metadata": {},
   "source": [
    "###### using pandas plot()"
   ]
  },
  {
   "cell_type": "code",
   "execution_count": null,
   "metadata": {
    "id": "Xtve-lAkaQp_"
   },
   "outputs": [],
   "source": [
    "result = df.groupby(\"Product\")[\"Sales\"].sum().sort_values(ascending=False)\n",
    "\n",
    "plt.figure(figsize=(7, 2))\n",
    "result.plot(kind = \"bar\", width = 0.6, color = \"teal\", edgecolor = \"orange\")  # using pandas plot function\n",
    "\n",
    "plt.title(\"Sales across Products\", size = 10, color = \"darkslategray\")\n",
    "plt.grid(axis=\"y\", color = \"orange\", ls = \"--\", alpha = 0.4)\n",
    "\n",
    "plt.xticks(size = 6,  color = \"darkslategray\", rotation = 20)\n",
    "y_ticks = np.arange(0, max(result.values) + 10000, 20000).astype(int)\n",
    "y_labels = (y_ticks // 1000).astype(str) + \"K\"\n",
    "plt.yticks(y_ticks, y_labels, size = 6,  color = \"darkslategray\")\n",
    "plt.show()"
   ]
  },
  {
   "cell_type": "markdown",
   "metadata": {},
   "source": [
    "###### using seaborn "
   ]
  },
  {
   "cell_type": "code",
   "execution_count": null,
   "metadata": {},
   "outputs": [],
   "source": [
    "plt.figure(figsize=(7, 2))\n",
    "\n",
    "sns.barplot(data = df, x = \"Product\", y = \"Sales\", estimator=\"sum\", color=\"teal\", errorbar=None)\n",
    "\n",
    "plt.title(\"Sales across Products\", size = 10, color = \"darkslategray\")\n",
    "plt.grid(axis=\"y\", color = \"orange\", ls = \"--\", alpha = 0.4)\n",
    "\n",
    "plt.xticks(size = 6,  color = \"darkslategray\", rotation = 20)\n",
    "plt.yticks(size = 6,  color = \"darkslategray\")\n",
    "plt.show()"
   ]
  },
  {
   "cell_type": "code",
   "execution_count": null,
   "metadata": {},
   "outputs": [],
   "source": [
    "result = df.groupby(\"Product\")[\"Sales\"].sum().sort_values(ascending=False)\n",
    "\n",
    "plt.figure(figsize=(7, 2))\n",
    "sns.barplot(result, color = \"teal\")\n",
    "\n",
    "plt.title(\"Sales across Products\", size = 10, color = \"darkslategray\")\n",
    "plt.grid(axis=\"y\", color = \"orange\", ls = \"--\", alpha = 0.4)\n",
    "\n",
    "plt.xticks(size = 6,  color = \"darkslategray\", rotation = 20)\n",
    "y_ticks = np.arange(0, max(result.values) + 10000, 20000).astype(int)\n",
    "y_labels = (y_ticks // 1000).astype(str) + \"K\"\n",
    "plt.yticks(y_ticks, y_labels, size = 6,  color = \"darkslategray\")\n",
    "plt.show()"
   ]
  },
  {
   "cell_type": "code",
   "execution_count": null,
   "metadata": {},
   "outputs": [],
   "source": [
    "plt.figure(figsize=(7, 2))\n",
    "sns.barplot(data = df, x = \"City\", hue = \"Sales Target Status\", y = \"Sales\", estimator=\"sum\", errorbar=None)\n",
    "plt.show()"
   ]
  },
  {
   "cell_type": "markdown",
   "metadata": {
    "id": "D5m6S_CKaQqA"
   },
   "source": [
    "#### use of `agg()`"
   ]
  },
  {
   "cell_type": "code",
   "execution_count": null,
   "metadata": {},
   "outputs": [],
   "source": [
    "result = df.groupby(\"Product\")[[\"Sales\", \"Profit\"]].sum().sort_values(\"Sales\", ascending=False)\n",
    "result.plot(kind = \"bar\")"
   ]
  },
  {
   "cell_type": "code",
   "execution_count": null,
   "metadata": {},
   "outputs": [],
   "source": [
    "result = df.groupby(\"Product\")[[\"Sales\", \"Profit\"]].sum().sort_values(\"Sales\", ascending=False)\n",
    "ax = result.plot(kind = \"bar\", subplots = True, figsize=(12, 4))\n",
    "plt.xticks(size = 6,  color = \"darkslategray\", rotation = 0)\n",
    "y_ticks = np.arange(0, result.Sales.max()+10000, 20000).astype(int)\n",
    "y_labels = (y_ticks // 1000).astype(str) + \"K\"\n",
    "ax[0].set_yticks(y_ticks, y_labels, size = 6,  color = \"darkslategray\")\n",
    "\n",
    "y_ticks = np.arange(0, result.Profit.max()+10000, 10000).astype(int)\n",
    "y_labels = (y_ticks // 1000).astype(str) + \"K\"\n",
    "ax[1].set_yticks(y_ticks, y_labels, size = 6,  color = \"darkslategray\")\n",
    "\n",
    "plt.show()"
   ]
  },
  {
   "cell_type": "markdown",
   "metadata": {},
   "source": [
    "###### Ex. Extract total and avg sales and total profits"
   ]
  },
  {
   "cell_type": "code",
   "execution_count": 14,
   "metadata": {},
   "outputs": [
    {
     "data": {
      "text/html": [
       "<div>\n",
       "<style scoped>\n",
       "    .dataframe tbody tr th:only-of-type {\n",
       "        vertical-align: middle;\n",
       "    }\n",
       "\n",
       "    .dataframe tbody tr th {\n",
       "        vertical-align: top;\n",
       "    }\n",
       "\n",
       "    .dataframe thead th {\n",
       "        text-align: right;\n",
       "    }\n",
       "</style>\n",
       "<table border=\"1\" class=\"dataframe\">\n",
       "  <thead>\n",
       "    <tr style=\"text-align: right;\">\n",
       "      <th></th>\n",
       "      <th>Total Sales</th>\n",
       "      <th>Avg Sales</th>\n",
       "      <th>Total Profit</th>\n",
       "      <th>Franchises</th>\n",
       "    </tr>\n",
       "    <tr>\n",
       "      <th>Product</th>\n",
       "      <th></th>\n",
       "      <th></th>\n",
       "      <th></th>\n",
       "      <th></th>\n",
       "    </tr>\n",
       "  </thead>\n",
       "  <tbody>\n",
       "    <tr>\n",
       "      <th>Amaretto</th>\n",
       "      <td>30425.0</td>\n",
       "      <td>140.856481</td>\n",
       "      <td>5915.0</td>\n",
       "      <td>3</td>\n",
       "    </tr>\n",
       "    <tr>\n",
       "      <th>Caffe Latte</th>\n",
       "      <td>35899.0</td>\n",
       "      <td>166.199074</td>\n",
       "      <td>11375.0</td>\n",
       "      <td>3</td>\n",
       "    </tr>\n",
       "    <tr>\n",
       "      <th>Caffe Mocha</th>\n",
       "      <td>76468.0</td>\n",
       "      <td>177.009259</td>\n",
       "      <td>15564.0</td>\n",
       "      <td>6</td>\n",
       "    </tr>\n",
       "    <tr>\n",
       "      <th>Chamomile</th>\n",
       "      <td>70894.0</td>\n",
       "      <td>196.927778</td>\n",
       "      <td>25351.0</td>\n",
       "      <td>5</td>\n",
       "    </tr>\n",
       "    <tr>\n",
       "      <th>Colombian</th>\n",
       "      <td>116547.0</td>\n",
       "      <td>269.784722</td>\n",
       "      <td>50218.0</td>\n",
       "      <td>6</td>\n",
       "    </tr>\n",
       "    <tr>\n",
       "      <th>Darjeeling</th>\n",
       "      <td>68788.0</td>\n",
       "      <td>191.077778</td>\n",
       "      <td>27129.0</td>\n",
       "      <td>5</td>\n",
       "    </tr>\n",
       "    <tr>\n",
       "      <th>Decaf Espresso</th>\n",
       "      <td>82442.0</td>\n",
       "      <td>190.837963</td>\n",
       "      <td>30591.0</td>\n",
       "      <td>6</td>\n",
       "    </tr>\n",
       "    <tr>\n",
       "      <th>Decaf Irish Cream</th>\n",
       "      <td>58456.0</td>\n",
       "      <td>162.377778</td>\n",
       "      <td>13029.0</td>\n",
       "      <td>5</td>\n",
       "    </tr>\n",
       "    <tr>\n",
       "      <th>Earl Grey</th>\n",
       "      <td>80448.0</td>\n",
       "      <td>223.466667</td>\n",
       "      <td>28811.0</td>\n",
       "      <td>5</td>\n",
       "    </tr>\n",
       "    <tr>\n",
       "      <th>Green Tea</th>\n",
       "      <td>48977.0</td>\n",
       "      <td>136.047222</td>\n",
       "      <td>7279.0</td>\n",
       "      <td>5</td>\n",
       "    </tr>\n",
       "    <tr>\n",
       "      <th>Lemon Tea</th>\n",
       "      <td>86042.0</td>\n",
       "      <td>199.171296</td>\n",
       "      <td>26182.0</td>\n",
       "      <td>6</td>\n",
       "    </tr>\n",
       "    <tr>\n",
       "      <th>Mint Tea</th>\n",
       "      <td>40394.0</td>\n",
       "      <td>187.009259</td>\n",
       "      <td>8034.0</td>\n",
       "      <td>3</td>\n",
       "    </tr>\n",
       "    <tr>\n",
       "      <th>Regular Espresso</th>\n",
       "      <td>24031.0</td>\n",
       "      <td>333.763889</td>\n",
       "      <td>10065.0</td>\n",
       "      <td>1</td>\n",
       "    </tr>\n",
       "  </tbody>\n",
       "</table>\n",
       "</div>"
      ],
      "text/plain": [
       "                   Total Sales   Avg Sales  Total Profit  Franchises\n",
       "Product                                                             \n",
       "Amaretto               30425.0  140.856481        5915.0           3\n",
       "Caffe Latte            35899.0  166.199074       11375.0           3\n",
       "Caffe Mocha            76468.0  177.009259       15564.0           6\n",
       "Chamomile              70894.0  196.927778       25351.0           5\n",
       "Colombian             116547.0  269.784722       50218.0           6\n",
       "Darjeeling             68788.0  191.077778       27129.0           5\n",
       "Decaf Espresso         82442.0  190.837963       30591.0           6\n",
       "Decaf Irish Cream      58456.0  162.377778       13029.0           5\n",
       "Earl Grey              80448.0  223.466667       28811.0           5\n",
       "Green Tea              48977.0  136.047222        7279.0           5\n",
       "Lemon Tea              86042.0  199.171296       26182.0           6\n",
       "Mint Tea               40394.0  187.009259        8034.0           3\n",
       "Regular Espresso       24031.0  333.763889       10065.0           1"
      ]
     },
     "execution_count": 14,
     "metadata": {},
     "output_type": "execute_result"
    }
   ],
   "source": [
    "result = df.groupby(\"Product\").agg({\"Sales\" : [\"sum\", \"mean\"], \"Profit\" : \"sum\", \"Franchise\" : \"nunique\"})\n",
    "result.columns = [\"Total Sales\", \"Avg Sales\", \"Total Profit\", \"Franchises\"]\n",
    "result"
   ]
  },
  {
   "cell_type": "markdown",
   "metadata": {
    "id": "fd3m_OjXaQqC"
   },
   "source": [
    "###### Ex. Visualise sales over years and months  - trend"
   ]
  },
  {
   "cell_type": "code",
   "execution_count": null,
   "metadata": {},
   "outputs": [],
   "source": [
    "plt.figure(figsize=(12, 2))\n",
    "sns.lineplot(df, x = \"Date\", y = \"Sales\", estimator=\"sum\", errorbar=None)\n",
    "plt.show()"
   ]
  },
  {
   "cell_type": "markdown",
   "metadata": {
    "id": "zu9Y75d1aQqA"
   },
   "source": [
    "###### Ex. Extract Monthly Sales - sesonality"
   ]
  },
  {
   "cell_type": "code",
   "execution_count": 47,
   "metadata": {},
   "outputs": [
    {
     "data": {
      "text/html": [
       "<div>\n",
       "<style scoped>\n",
       "    .dataframe tbody tr th:only-of-type {\n",
       "        vertical-align: middle;\n",
       "    }\n",
       "\n",
       "    .dataframe tbody tr th {\n",
       "        vertical-align: top;\n",
       "    }\n",
       "\n",
       "    .dataframe thead th {\n",
       "        text-align: right;\n",
       "    }\n",
       "</style>\n",
       "<table border=\"1\" class=\"dataframe\">\n",
       "  <thead>\n",
       "    <tr style=\"text-align: right;\">\n",
       "      <th></th>\n",
       "      <th>Date</th>\n",
       "      <th>Year</th>\n",
       "      <th>Month</th>\n",
       "      <th>Month#</th>\n",
       "      <th>Franchise</th>\n",
       "      <th>City</th>\n",
       "      <th>Product</th>\n",
       "      <th>Sales</th>\n",
       "      <th>Profit</th>\n",
       "      <th>Target Profit</th>\n",
       "      <th>Target Sales</th>\n",
       "      <th>Sales Target Status</th>\n",
       "    </tr>\n",
       "  </thead>\n",
       "  <tbody>\n",
       "    <tr>\n",
       "      <th>0</th>\n",
       "      <td>2021-01-01</td>\n",
       "      <td>2021</td>\n",
       "      <td>January</td>\n",
       "      <td>1</td>\n",
       "      <td>M1</td>\n",
       "      <td>Mumbai</td>\n",
       "      <td>Amaretto</td>\n",
       "      <td>219.0</td>\n",
       "      <td>94.0</td>\n",
       "      <td>100.0</td>\n",
       "      <td>220.0</td>\n",
       "      <td>Not Achieved</td>\n",
       "    </tr>\n",
       "    <tr>\n",
       "      <th>1</th>\n",
       "      <td>2021-02-01</td>\n",
       "      <td>2021</td>\n",
       "      <td>February</td>\n",
       "      <td>2</td>\n",
       "      <td>M1</td>\n",
       "      <td>Mumbai</td>\n",
       "      <td>Amaretto</td>\n",
       "      <td>140.0</td>\n",
       "      <td>34.0</td>\n",
       "      <td>50.0</td>\n",
       "      <td>140.0</td>\n",
       "      <td>Not Achieved</td>\n",
       "    </tr>\n",
       "  </tbody>\n",
       "</table>\n",
       "</div>"
      ],
      "text/plain": [
       "        Date  Year     Month  Month# Franchise    City   Product  Sales  \\\n",
       "0 2021-01-01  2021   January       1        M1  Mumbai  Amaretto  219.0   \n",
       "1 2021-02-01  2021  February       2        M1  Mumbai  Amaretto  140.0   \n",
       "\n",
       "   Profit  Target Profit  Target Sales Sales Target Status  \n",
       "0    94.0          100.0         220.0        Not Achieved  \n",
       "1    34.0           50.0         140.0        Not Achieved  "
      ]
     },
     "execution_count": 47,
     "metadata": {},
     "output_type": "execute_result"
    }
   ],
   "source": [
    "df.insert(3, \"Month#\", df.Date.dt.month)\n",
    "df.head(2)"
   ]
  },
  {
   "cell_type": "code",
   "execution_count": null,
   "metadata": {},
   "outputs": [],
   "source": [
    "result = df.groupby([\"Month#\", \"Month\"])[\"Sales\"].sum().reset_index()\n",
    "result.plot(kind = \"line\", y = \"Sales\", figsize = (10, 2), xlabel = \"\", fontsize = 6, title = \"Sales over months sesonality\")\n",
    "plt.xticks(range(12), labels=result.Month, size = 6)\n",
    "plt.show()"
   ]
  },
  {
   "cell_type": "markdown",
   "metadata": {},
   "source": [
    "###### Ex. Visualise sesonality by financial year"
   ]
  },
  {
   "cell_type": "code",
   "execution_count": null,
   "metadata": {},
   "outputs": [],
   "source": [
    "result = df.groupby([\"Month#\", \"Month\"])[\"Sales\"].sum().reset_index()\n",
    "result[\"Month#\"] = np.where(result[\"Month#\"] > 3, result[\"Month#\"] - 3, result[\"Month#\"] + 9)\n",
    "result.sort_values(\"Month#\", inplace=True)\n",
    "result.plot(kind = \"line\", x = \"Month\", y = \"Sales\", figsize = (10, 2), xlabel = \"\", fontsize = 6, title = \"Sales over months sesonality\")\n",
    "plt.xticks(range(12), labels=result.Month, size = 6)\n",
    "plt.show()"
   ]
  },
  {
   "cell_type": "markdown",
   "metadata": {
    "id": "zghj3tabaQqC"
   },
   "source": [
    "### Analysing Dataframes"
   ]
  },
  {
   "cell_type": "markdown",
   "metadata": {
    "id": "CDCkyN3haQqD"
   },
   "source": [
    "- univariate analysis - boxplot, histogram, value_counts(), countplot, describe()\n",
    "- bivariate analysis\n",
    "    - categorial X numerical - barchart, piechart\n",
    "    - 2 numerical - scatter plot\n",
    "    - 2 categorial - crosstab\n",
    "- multivariate - pivot table"
   ]
  },
  {
   "cell_type": "markdown",
   "metadata": {
    "id": "SjxYwGuEaQqD"
   },
   "source": [
    "### Univariate Analysis"
   ]
  },
  {
   "cell_type": "markdown",
   "metadata": {
    "id": "pRshZvV2aQqE"
   },
   "source": [
    "`df.value_counts(normalize = False)` **- returns a Series containing counts of unique rows in the DataFrame**"
   ]
  },
  {
   "cell_type": "markdown",
   "metadata": {
    "id": "9NQSSekiaQqG"
   },
   "source": [
    "Note - Applicable to categorial columns"
   ]
  },
  {
   "cell_type": "markdown",
   "metadata": {
    "id": "60twSvCQaQqD"
   },
   "source": [
    "#### Descriptive statistics\n",
    "Descriptive statistics deals with summarizing and describing the features of a dataset or sample. Descriptive statistics provides a summary of the main features of the data, including measures of central tendency, dispersion, shape, and relationships between variables.\n",
    "\n",
    "#### Measures of Central Tendency:\n",
    "    - Mean: The average value of the data points.\n",
    "    - Median: The middle value of the data when arranged in ascending order.\n",
    "    - Mode: The most frequently occurring value in the dataset.\n",
    "\n",
    "#### Measures of Dispersion:\n",
    "    - Range: The difference between the maximum and minimum values in the dataset.\n",
    "    - Variance: The average of the squared differences from the mean.\n",
    "    - Standard Deviation: The square root of the variance, representing the average deviation from the mean.\n",
    "\n",
    "#### Measures of Shape:\n",
    "    - Skewness: A measure of the asymmetry of the distribution.\n",
    "        - Positive skewness indicates a longer right tail and a concentration of data on the left side.\n",
    "        - Negative skewness indicates a longer left tail and a concentration of data on the right side.\n",
    "        - Skewness close to zero indicates approximate symmetry around the mean.\n",
    "\n",
    "    - Kurtosis: A measure of the \"peakedness\" or \"flatness\" of the distribution.\n",
    "        - Positive kurtosis indicates heavy tails and a sharp peak (leptokurtic).\n",
    "        - Negative kurtosis indicates light tails and a flat peak (platykurtic).\n",
    "        - A kurtosis of 0 indicates a distribution with similar tails to the normal distribution (mesokurtic).\n",
    "\n",
    "#### Frequency Distribution:\n",
    "    - Frequency table: A table that shows the frequency or count of each value in the dataset.\n",
    "    - Histogram: A graphical representation of the frequency distribution, showing the distribution of values in bins or intervals.\n",
    "\n",
    "#### Measures of Association:\n",
    "    - Correlation: A measure of the strength and direction of the linear relationship between two variables.\n",
    "    - Covariance: A measure of the joint variability between two variables."
   ]
  },
  {
   "cell_type": "markdown",
   "metadata": {
    "id": "1fMci3jjaQqD"
   },
   "source": [
    "`df.describe()` **- Generates descriptive statistics. Descriptive statistics include those that summarize the central tendency, dispersion and shape of a dataset’s distribution, excluding NaN values. Analyzes both numeric and object series, as well as DataFrame column sets of mixed data types. The output will vary depending on what is provided.**"
   ]
  },
  {
   "cell_type": "code",
   "execution_count": 69,
   "metadata": {
    "id": "qQSgFRktaQqE"
   },
   "outputs": [
    {
     "data": {
      "text/html": [
       "<div>\n",
       "<style scoped>\n",
       "    .dataframe tbody tr th:only-of-type {\n",
       "        vertical-align: middle;\n",
       "    }\n",
       "\n",
       "    .dataframe tbody tr th {\n",
       "        vertical-align: top;\n",
       "    }\n",
       "\n",
       "    .dataframe thead th {\n",
       "        text-align: right;\n",
       "    }\n",
       "</style>\n",
       "<table border=\"1\" class=\"dataframe\">\n",
       "  <thead>\n",
       "    <tr style=\"text-align: right;\">\n",
       "      <th></th>\n",
       "      <th>Sales</th>\n",
       "      <th>Profit</th>\n",
       "    </tr>\n",
       "  </thead>\n",
       "  <tbody>\n",
       "    <tr>\n",
       "      <th>count</th>\n",
       "      <td>4248.00</td>\n",
       "      <td>4248.00</td>\n",
       "    </tr>\n",
       "    <tr>\n",
       "      <th>mean</th>\n",
       "      <td>192.99</td>\n",
       "      <td>61.10</td>\n",
       "    </tr>\n",
       "    <tr>\n",
       "      <th>std</th>\n",
       "      <td>151.13</td>\n",
       "      <td>101.71</td>\n",
       "    </tr>\n",
       "    <tr>\n",
       "      <th>min</th>\n",
       "      <td>17.00</td>\n",
       "      <td>-638.00</td>\n",
       "    </tr>\n",
       "    <tr>\n",
       "      <th>25%</th>\n",
       "      <td>100.00</td>\n",
       "      <td>17.00</td>\n",
       "    </tr>\n",
       "    <tr>\n",
       "      <th>50%</th>\n",
       "      <td>138.00</td>\n",
       "      <td>40.00</td>\n",
       "    </tr>\n",
       "    <tr>\n",
       "      <th>75%</th>\n",
       "      <td>230.00</td>\n",
       "      <td>92.00</td>\n",
       "    </tr>\n",
       "    <tr>\n",
       "      <th>max</th>\n",
       "      <td>912.00</td>\n",
       "      <td>778.00</td>\n",
       "    </tr>\n",
       "  </tbody>\n",
       "</table>\n",
       "</div>"
      ],
      "text/plain": [
       "         Sales   Profit\n",
       "count  4248.00  4248.00\n",
       "mean    192.99    61.10\n",
       "std     151.13   101.71\n",
       "min      17.00  -638.00\n",
       "25%     100.00    17.00\n",
       "50%     138.00    40.00\n",
       "75%     230.00    92.00\n",
       "max     912.00   778.00"
      ]
     },
     "execution_count": 69,
     "metadata": {},
     "output_type": "execute_result"
    }
   ],
   "source": [
    "df[[\"Sales\",\"Profit\"]].describe().round(2)"
   ]
  },
  {
   "cell_type": "markdown",
   "metadata": {
    "id": "_YBX7kAoaQqH"
   },
   "source": [
    "#### Histogram"
   ]
  },
  {
   "cell_type": "code",
   "execution_count": 73,
   "metadata": {
    "id": "amIozsymaQqH"
   },
   "outputs": [
    {
     "data": {
      "image/png": "[encoded data removed]",
      "text/plain": [
       "<Figure size 300x200 with 1 Axes>"
      ]
     },
     "metadata": {},
     "output_type": "display_data"
    }
   ],
   "source": [
    "sns.histplot(df, x = \"Sales\", kde = True)\n",
    "plt.show()"
   ]
  },
  {
   "cell_type": "markdown",
   "metadata": {
    "id": "R39aUaScaQqI"
   },
   "source": [
    "#### Box and Whisker Plot\n",
    "- Identifies the outliers in the data\n",
    "- Based on IQR technique (Inter Quartile Range)"
   ]
  },
  {
   "cell_type": "markdown",
   "metadata": {
    "id": "R4UHNA0waQqI"
   },
   "source": [
    "<img src = \"images/boxplot.jpg\" width = 800 align = left>\n"
   ]
  },
  {
   "cell_type": "code",
   "execution_count": 75,
   "metadata": {},
   "outputs": [
    {
     "data": {
      "text/plain": [
       "count    4248.0\n",
       "mean      193.0\n",
       "std       151.1\n",
       "min        17.0\n",
       "25%       100.0\n",
       "50%       138.0\n",
       "75%       230.0\n",
       "max       912.0\n",
       "Name: Sales, dtype: float64"
      ]
     },
     "execution_count": 75,
     "metadata": {},
     "output_type": "execute_result"
    }
   ],
   "source": [
    "df.Sales.describe().round(1)"
   ]
  },
  {
   "cell_type": "code",
   "execution_count": 77,
   "metadata": {},
   "outputs": [
    {
     "data": {
      "text/plain": [
       "<Axes: ylabel='Sales'>"
      ]
     },
     "execution_count": 77,
     "metadata": {},
     "output_type": "execute_result"
    },
    {
     "data": {
      "image/png": "[encoded data removed]",
      "text/plain": [
       "<Figure size 300x200 with 1 Axes>"
      ]
     },
     "metadata": {},
     "output_type": "display_data"
    }
   ],
   "source": [
    "sns.boxplot(df, y = \"Sales\")"
   ]
  },
  {
   "cell_type": "code",
   "execution_count": 81,
   "metadata": {},
   "outputs": [],
   "source": [
    "Q1 = np.percentile(df.Sales, 25)\n",
    "Q3 = np.percentile(df.Sales, 75)\n",
    "IQR = Q3 - Q1\n",
    "min_w = Q1 - 1.5 * IQR\n",
    "max_w = Q3 + 1.5 * IQR"
   ]
  },
  {
   "cell_type": "code",
   "execution_count": 82,
   "metadata": {},
   "outputs": [
    {
     "data": {
      "text/plain": [
       "np.float64(-95.0)"
      ]
     },
     "execution_count": 82,
     "metadata": {},
     "output_type": "execute_result"
    }
   ],
   "source": [
    "min_w"
   ]
  },
  {
   "cell_type": "code",
   "execution_count": 83,
   "metadata": {},
   "outputs": [
    {
     "data": {
      "text/plain": [
       "np.float64(425.0)"
      ]
     },
     "execution_count": 83,
     "metadata": {},
     "output_type": "execute_result"
    }
   ],
   "source": [
    "max_w"
   ]
  },
  {
   "cell_type": "code",
   "execution_count": 87,
   "metadata": {},
   "outputs": [
    {
     "data": {
      "text/plain": [
       "np.int64(406)"
      ]
     },
     "execution_count": 87,
     "metadata": {},
     "output_type": "execute_result"
    }
   ],
   "source": [
    "(df.Sales > max_w).sum()  # count of outliers"
   ]
  },
  {
   "cell_type": "code",
   "execution_count": 89,
   "metadata": {},
   "outputs": [],
   "source": [
    "data_no_outliers = df[df.Sales <= max_w]"
   ]
  },
  {
   "cell_type": "code",
   "execution_count": 90,
   "metadata": {},
   "outputs": [],
   "source": [
    "data_no_outliers = df[df.Sales.between(min_w, max_w)]"
   ]
  },
  {
   "cell_type": "markdown",
   "metadata": {},
   "source": [
    "#### Normally distributed data"
   ]
  },
  {
   "cell_type": "code",
   "execution_count": 112,
   "metadata": {},
   "outputs": [
    {
     "name": "stdout",
     "output_type": "stream",
     "text": [
      "Mean - 19.8195\n",
      "Median - 19.8\n",
      "Mode - ModeResult(mode=np.float64(20.8), count=np.int64(15))\n",
      "Range - 3.0 - 40.3\n",
      "Standard Deviation - 5.444748823407743\n",
      "skewness - -0.0637938918810113\n",
      "kurtosis - 0.09255836321687472\n"
     ]
    },
    {
     "data": {
      "image/png": "[encoded data removed]",
      "text/plain": [
       "<Figure size 700x200 with 2 Axes>"
      ]
     },
     "metadata": {},
     "output_type": "display_data"
    }
   ],
   "source": [
    "import scipy.stats as stats\n",
    "# dataset consists of weights children in the age group of 0 to 10 years\n",
    "weights = np.array([20.8,15.3,23.2,15.5,17.5,27.3,23.3,20.5,16.4,17.4,22.6,20.8,16.7,29.1,14.2,18.5,17.6,17.1,18.2,26.0,25.6,19.1,17.8,21.6,19.6,28.4,19.4,22.8,25.9,27.1,20.8,21.9,15.4,30.2,23.0,25.0,24.0,17.1,18.8,25.8,23.2,14.9,20.4,15.0,12.3,17.6,10.3,12.1,25.8,21.9,9.9,24.8,17.9,22.0,27.6,21.7,26.3,19.9,16.6,17.8,8.0,21.5,17.9,33.6,20.4,21.9,19.8,15.3,25.6,24.7,10.6,22.1,18.8,9.8,14.9,18.7,27.6,21.2,25.1,21.9,22.1,19.6,10.4,17.2,18.3,21.2,21.1,21.0,19.1,14.8,19.2,18.3,22.1,14.1,19.3,16.2,25.6,14.8,22.3,25.0,20.8,21.2,16.6,15.0,15.6,24.7,26.1,18.1,14.1,25.5,21.4,32.7,13.8,27.4,15.8,18.4,21.3,27.5,15.8,27.2,26.9,16.2,22.6,15.3,22.5,26.6,24.7,28.4,28.0,19.9,9.9,16.5,19.5,11.7,27.9,28.1,21.1,20.0,14.5,25.9,13.3,15.8,21.3,10.7,14.6,19.9,21.6,26.6,26.0,23.7,20.5,11.8,15.6,14.9,24.6,20.9,24.5,26.8,25.3,30.9,26.1,14.9,17.9,18.5,25.7,16.4,8.2,24.1,19.5,13.1,17.6,13.4,24.4,16.4,19.9,12.9,14.3,25.4,15.4,17.7,17.3,18.7,16.1,7.4,18.4,16.2,18.7,19.8,25.6,23.7,22.5,20.5,14.9,25.0,4.7,6.8,21.8,22.2,24.4,13.4,32.1,26.6,27.2,17.8,19.6,16.8,14.4,24.9,12.6,15.0,15.4,10.1,12.9,15.9,22.3,15.0,24.4,21.0,17.2,25.2,15.6,24.6,24.9,13.6,10.3,25.6,18.3,25.1,18.1,20.2,29.1,25.7,14.9,11.4,19.2,21.5,13.9,19.5,19.1,23.0,26.8,14.8,24.4,14.7,24.3,24.5,19.9,12.1,21.2,16.4,19.5,25.8,8.5,19.8,23.4,21.3,14.7,17.9,15.7,14.9,5.2,3.8,31.5,17.4,16.0,20.7,18.4,8.1,22.9,32.8,19.0,33.0,26.0,14.2,18.4,15.1,29.5,13.9,5.1,28.1,18.2,10.5,27.8,19.4,13.1,21.9,18.6,11.0,19.7,20.2,20.1,17.6,21.6,21.2,30.0,26.1,20.5,22.8,20.5,19.6,18.0,19.8,21.8,7.0,21.4,22.5,18.9,15.1,22.0,25.5,11.1,15.4,21.5,13.5,11.2,19.3,25.5,20.2,18.3,15.3,40.3,22.1,23.2,17.1,19.4,15.3,28.6,23.0,19.4,16.7,20.9,21.1,15.9,29.6,17.0,19.0,20.8,20.4,9.8,24.0,15.2,26.2,22.0,21.4,16.2,29.2,21.4,28.9,16.9,21.9,11.2,19.0,21.2,20.8,9.3,12.5,26.9,10.7,18.9,17.5,23.3,12.5,13.4,26.3,23.0,21.8,25.6,20.7,18.0,32.5,25.6,8.4,19.8,24.5,18.0,24.7,21.3,12.9,21.6,29.1,25.8,26.4,27.0,25.6,19.0,20.0,10.4,17.5,19.5,17.5,21.1,19.6,23.1,18.2,27.0,18.5,19.3,25.4,20.8,20.8,20.6,20.4,23.1,17.6,18.7,16.2,18.9,15.2,22.5,10.0,21.1,29.3,17.8,27.1,16.8,18.0,28.3,16.5,19.8,16.7,23.2,23.6,18.5,29.8,24.2,22.4,29.3,29.3,21.5,15.5,23.0,12.8,20.8,11.5,20.0,15.2,18.7,17.2,22.5,13.5,13.1,17.6,12.1,23.2,18.0,24.2,7.3,17.0,17.0,22.7,22.1,18.0,15.6,13.9,17.7,14.7,26.1,12.2,20.3,17.8,16.5,10.2,18.2,22.2,26.3,26.6,19.2,19.5,14.3,15.6,13.9,20.2,11.6,31.2,6.3,23.4,21.1,22.0,8.5,11.5,19.3,17.7,11.9,14.8,16.9,16.1,13.0,17.9,22.0,14.2,13.9,25.4,21.1,16.3,16.4,19.3,18.3,23.0,27.4,24.2,14.9,12.7,16.7,17.8,19.5,14.9,23.9,15.2,25.4,22.9,25.2,12.7,26.0,26.7,15.8,24.9,24.4,15.5,20.0,7.8,20.6,19.0,29.8,14.1,14.1,17.8,24.9,20.7,19.8,24.2,16.7,21.3,23.7,20.9,23.6,25.3,9.9,21.7,16.7,10.3,18.9,25.2,12.7,27.4,21.4,23.0,11.8,22.1,13.0,20.0,27.2,19.8,16.9,18.8,25.0,9.0,19.0,11.1,19.6,24.0,29.3,20.7,10.7,26.9,18.6,21.5,26.2,21.5,27.9,22.1,25.1,27.9,18.9,26.4,20.0,25.6,27.5,17.7,18.9,27.0,14.9,27.6,19.6,18.1,19.2,20.2,16.4,16.6,14.1,8.9,17.6,17.3,21.0,14.3,18.7,19.9,12.3,24.4,23.3,25.1,27.9,15.1,18.3,23.2,17.8,15.5,22.0,23.0,20.4,15.5,22.8,19.5,22.2,22.3,25.1,15.0,19.9,23.8,18.8,17.0,7.9,24.0,31.4,17.6,27.4,28.1,17.9,18.3,17.3,21.6,17.8,22.4,19.2,22.8,21.4,19.1,22.4,29.4,13.6,15.0,28.8,18.2,25.8,15.1,23.6,12.2,10.1,15.4,27.0,17.2,11.6,20.8,18.8,20.4,18.1,20.9,31.1,19.0,18.5,17.9,23.1,32.0,21.7,23.4,17.1,19.0,18.1,19.3,18.8,25.8,19.8,22.1,15.8,15.9,21.3,18.4,17.8,23.1,22.2,15.3,20.0,20.8,30.2,24.0,12.6,9.2,21.7,19.8,16.6,16.5,18.0,21.1,10.0,23.5,26.9,23.7,16.8,12.7,29.8,17.9,18.6,19.9,23.6,26.4,18.2,18.1,19.2,15.3,19.4,20.2,33.2,26.2,26.9,15.3,18.9,18.3,27.6,29.0,22.5,30.2,22.8,13.8,21.4,27.3,25.1,26.7,7.9,27.3,21.9,15.6,18.1,19.9,23.0,22.9,15.0,16.5,18.9,24.8,4.9,16.7,20.2,7.9,19.3,16.1,22.5,27.4,29.6,18.7,21.9,9.9,24.6,10.1,21.5,20.6,11.4,14.0,18.4,6.5,12.8,25.5,19.5,14.6,20.5,18.9,14.8,21.7,17.3,33.1,23.1,25.1,30.2,17.0,13.2,29.2,14.8,13.5,22.3,9.0,19.2,19.1,20.4,14.2,20.6,19.3,27.6,21.4,15.5,23.4,13.2,12.1,23.2,33.8,17.5,19.1,23.2,12.6,24.6,14.6,19.5,20.1,13.4,12.4,14.6,16.8,27.5,19.5,11.5,15.4,24.0,21.1,21.8,29.1,18.9,21.3,18.9,20.1,13.7,19.7,17.0,34.0,24.0,16.9,19.3,19.9,19.4,19.3,21.5,20.8,20.1,27.1,23.5,22.9,19.4,14.8,28.6,23.2,8.7,30.1,19.1,15.1,22.3,17.4,23.8,18.1,20.4,23.1,22.4,13.7,25.5,25.9,21.3,21.6,21.4,29.7,18.1,10.3,23.6,21.0,13.1,10.6,20.8,21.7,19.4,21.4,25.1,16.6,11.1,13.8,21.1,22.0,20.8,19.1,24.4,15.2,25.1,19.2,10.5,21.8,17.5,19.6,8.2,22.1,21.8,13.6,15.1,28.4,22.0,28.6,25.3,29.3,19.1,20.8,10.8,23.6,13.5,23.2,16.9,22.9,21.3,21.8,31.3,21.1,17.1,25.5,26.1,19.2,19.9,26.4,34.9,17.4,24.2,17.5,21.7,11.3,4.9,21.3,17.2,15.6,22.4,28.2,22.3,21.3,20.5,18.4,17.5,9.7,21.4,12.8,20.0,20.7,16.1,26.2,20.9,19.2,23.6,22.4,31.7,22.5,20.3,13.8,23.3,17.4,3.0,16.6,17.1,27.8,17.4,13.7,14.1,26.4,23.9,21.2,27.4,9.9,18.7,17.0,21.1,22.9,8.7,19.1,25.1,21.0,22.3,21.5,19.6,17.6,22.7,14.7,11.5,28.6,19.9,13.5,27.3,19.6,18.7,14.0,11.6,15.0,26.5,21.7,22.1,5.7,18.3,23.4,19.5,15.8,18.6,19.3,27.0,21.7,21.9,20.7,13.5,29.7,22.3,24.0,31.1,23.9,15.7,19.6])\n",
    "print(f\"Mean - {np.mean(weights)}\")\n",
    "print(f\"Median - {np.median(weights)}\")\n",
    "print(f\"Mode - {stats.mode(weights)}\")\n",
    "print(f\"Range - {np.min(weights)} - {np.max(weights)}\")\n",
    "print(f\"Standard Deviation - {np.std(weights)}\")\n",
    "print(f\"skewness - {stats.skew(weights)}\")\n",
    "print(f\"kurtosis - {stats.kurtosis(weights)}\")\n",
    "fig, ax = plt.subplots(ncols = 2, figsize = (7, 2))\n",
    "sns.histplot(weights, kde = True, ax = ax[0])\n",
    "ax[0].axvline(np.mean(weights), color = \"red\")\n",
    "sns.boxplot(weights, ax = ax[1])\n",
    "plt.show()"
   ]
  },
  {
   "cell_type": "markdown",
   "metadata": {},
   "source": [
    "#### Z-score to handle outliers"
   ]
  },
  {
   "cell_type": "code",
   "execution_count": 104,
   "metadata": {},
   "outputs": [
    {
     "data": {
      "text/plain": [
       "1.25"
      ]
     },
     "execution_count": 104,
     "metadata": {},
     "output_type": "execute_result"
    }
   ],
   "source": [
    "mean = 19\n",
    "actual = 24\n",
    "std = 4\n",
    "\n",
    "zscore =(actual - mean) / std\n",
    "zscore"
   ]
  },
  {
   "cell_type": "code",
   "execution_count": 111,
   "metadata": {},
   "outputs": [
    {
     "data": {
      "image/png": "[encoded data removed]",
      "text/plain": [
       "<Figure size 300x200 with 1 Axes>"
      ]
     },
     "metadata": {},
     "output_type": "display_data"
    }
   ],
   "source": [
    "weight_zscores = stats.zscore(weights)\n",
    "sns.histplot(weight_zscores, kde = True)\n",
    "plt.axvline(np.mean(weight_zscores), color = \"red\")\n",
    "plt.xticks(range(-4, 5, 1))\n",
    "plt.show()"
   ]
  },
  {
   "cell_type": "code",
   "execution_count": 114,
   "metadata": {},
   "outputs": [],
   "source": [
    "weight_no_outliers = weights[np.abs(weight_zscores) <=3]  # removing outliers"
   ]
  },
  {
   "cell_type": "code",
   "execution_count": 115,
   "metadata": {},
   "outputs": [
    {
     "name": "stdout",
     "output_type": "stream",
     "text": [
      "Mean - 61.097693032015066\n",
      "Median - 40.0\n",
      "Mode - ModeResult(mode=np.float64(47.0), count=np.int64(73))\n",
      "Range - -638.0 - 778.0\n",
      "Standard Deviation - 101.69657388372194\n",
      "skewness - 0.44520573924234763\n",
      "kurtosis - 9.779541380894665\n"
     ]
    },
    {
     "data": {
      "image/png": "[encoded data removed]",
      "text/plain": [
       "<Figure size 700x200 with 2 Axes>"
      ]
     },
     "metadata": {},
     "output_type": "display_data"
    }
   ],
   "source": [
    "import scipy.stats as stats\n",
    "print(f\"Mean - {np.mean(df.Profit)}\")\n",
    "print(f\"Median - {np.median(df.Profit)}\")\n",
    "print(f\"Mode - {stats.mode(df.Profit)}\")\n",
    "print(f\"Range - {np.min(df.Profit)} - {np.max(df.Profit)}\")\n",
    "print(f\"Standard Deviation - {np.std(df.Profit)}\")\n",
    "print(f\"skewness - {stats.skew(df.Profit)}\")\n",
    "print(f\"kurtosis - {stats.kurtosis(df.Profit)}\")\n",
    "fig, ax = plt.subplots(ncols = 2, figsize = (7, 2))\n",
    "sns.histplot(df.Profit, kde = True, ax = ax[0])\n",
    "ax[0].axvline(np.mean(df.Profit), color = \"red\")\n",
    "sns.boxplot(df.Profit, ax = ax[1])\n",
    "plt.show()"
   ]
  },
  {
   "cell_type": "markdown",
   "metadata": {
    "id": "Ou2F5vXYaQqI"
   },
   "source": [
    "### Bivariate Analysis"
   ]
  },
  {
   "cell_type": "markdown",
   "metadata": {
    "id": "5YU7oCURaQqI"
   },
   "source": [
    "`pd.crosstab(index, columns, values=None, aggfunc=None normalize=False)` **- Computes a simple cross tabulation of two (or more) factors. By default computes a frequency table of the factors unless an array of values and an aggregation function are passed.**"
   ]
  },
  {
   "cell_type": "markdown",
   "metadata": {
    "id": "Ru-jZFq8aQqI"
   },
   "source": [
    "###### Ex. Number of franchise where a product is sold across each state"
   ]
  },
  {
   "cell_type": "code",
   "execution_count": null,
   "metadata": {
    "id": "RyKVOWGGaQqI"
   },
   "outputs": [],
   "source": []
  },
  {
   "cell_type": "markdown",
   "metadata": {
    "id": "h0bntQs5aQqJ"
   },
   "source": [
    "###### Ex. Product and the number of time Sales Target achieved"
   ]
  },
  {
   "cell_type": "code",
   "execution_count": null,
   "metadata": {
    "id": "VXnTAqQRaQqJ"
   },
   "outputs": [],
   "source": []
  },
  {
   "cell_type": "markdown",
   "metadata": {
    "id": "imnBVUE1aQqJ"
   },
   "source": [
    "`df.pivot_table(values=None, index=None, columns=None, aggfunc='mean')`  **- creates a spreadsheet-style pivot table as a DataFrame. The levels in the pivot table will be stored in MultiIndex objects (hierarchical indexes) on the index and columns of the result DataFrame.**"
   ]
  },
  {
   "cell_type": "code",
   "execution_count": null,
   "metadata": {
    "id": "XRZa_VhiaQqJ"
   },
   "outputs": [],
   "source": []
  },
  {
   "cell_type": "markdown",
   "metadata": {
    "id": "i8SOslJ-aQqJ"
   },
   "source": [
    "#### Barchart"
   ]
  },
  {
   "cell_type": "markdown",
   "metadata": {
    "id": "zzkAKP2baQqK"
   },
   "source": [
    "###### Display Sales across products"
   ]
  },
  {
   "cell_type": "code",
   "execution_count": null,
   "metadata": {
    "id": "_M3fgMuZaQqK"
   },
   "outputs": [],
   "source": []
  },
  {
   "cell_type": "markdown",
   "metadata": {
    "id": "AGIdLPrmaQqK"
   },
   "source": [
    "#### Piechart"
   ]
  },
  {
   "cell_type": "code",
   "execution_count": null,
   "metadata": {
    "id": "YCD4F2-PaQqK"
   },
   "outputs": [],
   "source": []
  },
  {
   "cell_type": "markdown",
   "metadata": {
    "id": "6f9JniuMaQqK"
   },
   "source": [
    "#### Scatter Plot"
   ]
  },
  {
   "cell_type": "code",
   "execution_count": null,
   "metadata": {
    "id": "_akHm29BaQqK"
   },
   "outputs": [],
   "source": []
  },
  {
   "cell_type": "markdown",
   "metadata": {
    "id": "oYnt89-haQqL"
   },
   "source": [
    "#### Line Chart"
   ]
  },
  {
   "cell_type": "markdown",
   "metadata": {
    "id": "G-AEGUqLaQqL"
   },
   "source": [
    "###### Ex. Plot line chart showing monthly sales"
   ]
  },
  {
   "cell_type": "markdown",
   "metadata": {
    "id": "ZspBfP9faQqL"
   },
   "source": [
    "#### using pandas"
   ]
  },
  {
   "cell_type": "code",
   "execution_count": null,
   "metadata": {
    "id": "Wv7YzqoSaQqL"
   },
   "outputs": [],
   "source": []
  },
  {
   "cell_type": "markdown",
   "metadata": {
    "id": "4IPk56aYaQqL"
   },
   "source": [
    "#### using seaborn"
   ]
  }
 ],
 "metadata": {
  "colab": {
   "provenance": []
  },
  "kernelspec": {
   "display_name": "Python 3 (ipykernel)",
   "language": "python",
   "name": "python3"
  },
  "language_info": {
   "codemirror_mode": {
    "name": "ipython",
    "version": 3
   },
   "file_extension": ".py",
   "mimetype": "text/x-python",
   "name": "python",
   "nbconvert_exporter": "python",
   "pygments_lexer": "ipython3",
   "version": "3.12.4"
  }
 },
 "nbformat": 4,
 "nbformat_minor": 4
}
