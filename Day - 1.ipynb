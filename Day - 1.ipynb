{
 "cells": [
  {
   "cell_type": "markdown",
   "metadata": {},
   "source": [
    "### Python Revision"
   ]
  },
  {
   "cell_type": "markdown",
   "metadata": {},
   "source": [
    "###### Ex. WAP to replace all the vowels in a word with `*`"
   ]
  },
  {
   "cell_type": "code",
   "execution_count": 1,
   "metadata": {},
   "outputs": [
    {
     "name": "stdin",
     "output_type": "stream",
     "text": [
      "Enter a word -  singapore\n"
     ]
    },
    {
     "data": {
      "text/plain": [
       "'s*ng*p*r*'"
      ]
     },
     "execution_count": 1,
     "metadata": {},
     "output_type": "execute_result"
    }
   ],
   "source": [
    "word = input(\"Enter a word - \")\n",
    "for ch in \"aeiou\" :    \n",
    "    word = word.replace(ch, \"*\")\n",
    "word"
   ]
  },
  {
   "cell_type": "code",
   "execution_count": 2,
   "metadata": {},
   "outputs": [
    {
     "name": "stdin",
     "output_type": "stream",
     "text": [
      "Enter a word -  singapore\n"
     ]
    },
    {
     "data": {
      "text/plain": [
       "'s*ng*p*r*'"
      ]
     },
     "execution_count": 2,
     "metadata": {},
     "output_type": "execute_result"
    }
   ],
   "source": [
    "word = input(\"Enter a word - \")\n",
    "trans_obj = str.maketrans(\"aeiou\", \"*****\")\n",
    "word.translate(trans_obj)"
   ]
  },
  {
   "cell_type": "code",
   "execution_count": 3,
   "metadata": {},
   "outputs": [
    {
     "name": "stdin",
     "output_type": "stream",
     "text": [
      "Enter a word -  abcd$\n"
     ]
    },
    {
     "data": {
      "text/plain": [
       "'*bcd'"
      ]
     },
     "execution_count": 3,
     "metadata": {},
     "output_type": "execute_result"
    }
   ],
   "source": [
    "word = input(\"Enter a word - \")\n",
    "trans_obj = str.maketrans(\"aeiou\", \"*****\", \"@$\")  # str.maketrans(\"old chars\", \"new chars\", \"chars to be removed\")\n",
    "word.translate(trans_obj)"
   ]
  },
  {
   "cell_type": "markdown",
   "metadata": {},
   "source": [
    "###### Ex. WAP to get sum of sales from the sales tuple"
   ]
  },
  {
   "cell_type": "code",
   "execution_count": 7,
   "metadata": {},
   "outputs": [
    {
     "data": {
      "text/plain": [
       "2490"
      ]
     },
     "execution_count": 7,
     "metadata": {},
     "output_type": "execute_result"
    }
   ],
   "source": [
    "sales = (\"$290\", \"$800\", \"$900\", \"$500\")\n",
    "# Comprehension - create a mutable container by applying an expression to a sequnce\n",
    "sum([int(i.replace(\"$\", \"\")) for i in sales])"
   ]
  },
  {
   "cell_type": "markdown",
   "metadata": {},
   "source": [
    "###### Ex. WAP to generate a list of squares of numbers from 1-10"
   ]
  },
  {
   "cell_type": "code",
   "execution_count": 8,
   "metadata": {},
   "outputs": [
    {
     "data": {
      "text/plain": [
       "[1, 4, 9, 16, 25, 36, 49, 64, 81, 100]"
      ]
     },
     "execution_count": 8,
     "metadata": {},
     "output_type": "execute_result"
    }
   ],
   "source": [
    "[i**2 for i in range(1, 11)]"
   ]
  },
  {
   "cell_type": "markdown",
   "metadata": {},
   "source": [
    "###### Using map() function and func object"
   ]
  },
  {
   "cell_type": "code",
   "execution_count": 11,
   "metadata": {},
   "outputs": [
    {
     "data": {
      "text/plain": [
       "2490"
      ]
     },
     "execution_count": 11,
     "metadata": {},
     "output_type": "execute_result"
    }
   ],
   "source": [
    "sales = (\"$290\", \"$800\", \"$900\", \"$500\")\n",
    "func = lambda val : int(val.replace(\"$\", \"\"))\n",
    "sum(map(func, sales))"
   ]
  },
  {
   "cell_type": "markdown",
   "metadata": {},
   "source": [
    "###### Ex. WAP to sort the given list in DESC order"
   ]
  },
  {
   "cell_type": "code",
   "execution_count": 13,
   "metadata": {},
   "outputs": [
    {
     "data": {
      "text/plain": [
       "['train', 'flight', 'car', 'bike']"
      ]
     },
     "execution_count": 13,
     "metadata": {},
     "output_type": "execute_result"
    }
   ],
   "source": [
    "lst = [\"bike\", \"flight\", \"car\", \"train\"]\n",
    "sorted(lst, reverse=True)"
   ]
  },
  {
   "cell_type": "markdown",
   "metadata": {},
   "source": [
    "###### Ex. WAP to sort the list in ASC order of number characters in each word"
   ]
  },
  {
   "cell_type": "code",
   "execution_count": 15,
   "metadata": {},
   "outputs": [
    {
     "data": {
      "text/plain": [
       "['car', 'bike', 'train', 'flight']"
      ]
     },
     "execution_count": 15,
     "metadata": {},
     "output_type": "execute_result"
    }
   ],
   "source": [
    "lst = [\"bike\", \"flight\", \"car\", \"train\"]\n",
    "sorted(lst, key = len)"
   ]
  },
  {
   "cell_type": "markdown",
   "metadata": {},
   "source": [
    "###### Ex. WAP to sort the list in ASC order of last character of each word"
   ]
  },
  {
   "cell_type": "code",
   "execution_count": 17,
   "metadata": {},
   "outputs": [
    {
     "data": {
      "text/plain": [
       "['bike', 'train', 'car', 'flight']"
      ]
     },
     "execution_count": 17,
     "metadata": {},
     "output_type": "execute_result"
    }
   ],
   "source": [
    "lst = [\"bike\", \"flight\", \"car\", \"train\"]\n",
    "sorted(lst, key = lambda word : word[-1])"
   ]
  },
  {
   "cell_type": "markdown",
   "metadata": {},
   "source": [
    "###### Ex. WAP to sort the given dict in DESC order of salaries"
   ]
  },
  {
   "cell_type": "code",
   "execution_count": 22,
   "metadata": {},
   "outputs": [
    {
     "data": {
      "text/plain": [
       "[('Jack', 50000), ('George', 45000), ('Rosie', 40000), ('Jane', 30000)]"
      ]
     },
     "execution_count": 22,
     "metadata": {},
     "output_type": "execute_result"
    }
   ],
   "source": [
    "employee = {\"Rosie\" : 40000, \"Jane\" : 30000, \"Jack\" :50000, \"George\" : 45000}\n",
    "sorted(employee.items(), reverse=True, key = lambda val : val[1])"
   ]
  },
  {
   "cell_type": "code",
   "execution_count": 23,
   "metadata": {},
   "outputs": [
    {
     "data": {
      "text/plain": [
       "{'Jack': 50000, 'George': 45000, 'Rosie': 40000, 'Jane': 30000}"
      ]
     },
     "execution_count": 23,
     "metadata": {},
     "output_type": "execute_result"
    }
   ],
   "source": [
    "dict(sorted(employee.items(), reverse=True, key = lambda val : val[1]))"
   ]
  },
  {
   "cell_type": "markdown",
   "metadata": {},
   "source": [
    "### Function Arguments"
   ]
  },
  {
   "cell_type": "markdown",
   "metadata": {},
   "source": [
    "#### 1. Required Positional Argument"
   ]
  },
  {
   "cell_type": "code",
   "execution_count": 26,
   "metadata": {},
   "outputs": [],
   "source": [
    "def func(name, age):\n",
    "    print(f\"Name - {name} | Age - {age}\")"
   ]
  },
  {
   "cell_type": "code",
   "execution_count": 28,
   "metadata": {},
   "outputs": [
    {
     "name": "stdout",
     "output_type": "stream",
     "text": [
      "Name - Jane | Age - 30\n",
      "Name - 30 | Age - Jane\n"
     ]
    },
    {
     "ename": "TypeError",
     "evalue": "func() missing 1 required positional argument: 'age'",
     "output_type": "error",
     "traceback": [
      "\u001b[1;31m---------------------------------------------------------------------------\u001b[0m",
      "\u001b[1;31mTypeError\u001b[0m                                 Traceback (most recent call last)",
      "Cell \u001b[1;32mIn[28], line 3\u001b[0m\n\u001b[0;32m      1\u001b[0m func(\u001b[38;5;124m\"\u001b[39m\u001b[38;5;124mJane\u001b[39m\u001b[38;5;124m\"\u001b[39m, \u001b[38;5;241m30\u001b[39m)\n\u001b[0;32m      2\u001b[0m func(\u001b[38;5;241m30\u001b[39m, \u001b[38;5;124m\"\u001b[39m\u001b[38;5;124mJane\u001b[39m\u001b[38;5;124m\"\u001b[39m)  \u001b[38;5;66;03m# Positional Argument\u001b[39;00m\n\u001b[1;32m----> 3\u001b[0m \u001b[43mfunc\u001b[49m\u001b[43m(\u001b[49m\u001b[38;5;124;43m\"\u001b[39;49m\u001b[38;5;124;43mJane\u001b[39;49m\u001b[38;5;124;43m\"\u001b[39;49m\u001b[43m)\u001b[49m\n",
      "\u001b[1;31mTypeError\u001b[0m: func() missing 1 required positional argument: 'age'"
     ]
    }
   ],
   "source": [
    "func(\"Jane\", 30)\n",
    "func(30, \"Jane\")  # Positional Argument\n",
    "func(\"Jane\")  # Required Argument"
   ]
  },
  {
   "cell_type": "code",
   "execution_count": 29,
   "metadata": {},
   "outputs": [
    {
     "ename": "TypeError",
     "evalue": "len() takes exactly one argument (0 given)",
     "output_type": "error",
     "traceback": [
      "\u001b[1;31m---------------------------------------------------------------------------\u001b[0m",
      "\u001b[1;31mTypeError\u001b[0m                                 Traceback (most recent call last)",
      "Cell \u001b[1;32mIn[29], line 1\u001b[0m\n\u001b[1;32m----> 1\u001b[0m \u001b[38;5;28;43mlen\u001b[39;49m\u001b[43m(\u001b[49m\u001b[43m)\u001b[49m\n",
      "\u001b[1;31mTypeError\u001b[0m: len() takes exactly one argument (0 given)"
     ]
    }
   ],
   "source": [
    "len()"
   ]
  },
  {
   "cell_type": "code",
   "execution_count": 32,
   "metadata": {},
   "outputs": [
    {
     "data": {
      "text/plain": [
       "[1, 2, 3, 4, 5, 1, 6]"
      ]
     },
     "execution_count": 32,
     "metadata": {},
     "output_type": "execute_result"
    }
   ],
   "source": [
    "lst = [1, 2, 3, 4, 5, 6]\n",
    "lst.insert(5, 1) # insert 5 at position 1\n",
    "lst"
   ]
  },
  {
   "cell_type": "code",
   "execution_count": 34,
   "metadata": {},
   "outputs": [
    {
     "ename": "TypeError",
     "evalue": "'str' object cannot be interpreted as an integer",
     "output_type": "error",
     "traceback": [
      "\u001b[1;31m---------------------------------------------------------------------------\u001b[0m",
      "\u001b[1;31mTypeError\u001b[0m                                 Traceback (most recent call last)",
      "Cell \u001b[1;32mIn[34], line 2\u001b[0m\n\u001b[0;32m      1\u001b[0m lst \u001b[38;5;241m=\u001b[39m [\u001b[38;5;241m1\u001b[39m, \u001b[38;5;241m2\u001b[39m, \u001b[38;5;241m3\u001b[39m, \u001b[38;5;241m4\u001b[39m, \u001b[38;5;241m5\u001b[39m, \u001b[38;5;241m6\u001b[39m]\n\u001b[1;32m----> 2\u001b[0m \u001b[43mlst\u001b[49m\u001b[38;5;241;43m.\u001b[39;49m\u001b[43minsert\u001b[49m\u001b[43m(\u001b[49m\u001b[38;5;124;43m\"\u001b[39;49m\u001b[38;5;124;43mabcd\u001b[39;49m\u001b[38;5;124;43m\"\u001b[39;49m\u001b[43m,\u001b[49m\u001b[43m \u001b[49m\u001b[38;5;241;43m1\u001b[39;49m\u001b[43m)\u001b[49m \u001b[38;5;66;03m# insert \"abcd\" at position 1\u001b[39;00m\n\u001b[0;32m      3\u001b[0m lst\n",
      "\u001b[1;31mTypeError\u001b[0m: 'str' object cannot be interpreted as an integer"
     ]
    }
   ],
   "source": [
    "lst = [1, 2, 3, 4, 5, 6]\n",
    "lst.insert(\"abcd\", 1) # insert \"abcd\" at position 1\n",
    "lst"
   ]
  },
  {
   "cell_type": "code",
   "execution_count": 33,
   "metadata": {},
   "outputs": [
    {
     "name": "stdout",
     "output_type": "stream",
     "text": [
      "Help on built-in function insert:\n",
      "\n",
      "insert(index, object, /) method of builtins.list instance\n",
      "    Insert object before index.\n",
      "\n"
     ]
    }
   ],
   "source": [
    "help(lst.insert)"
   ]
  },
  {
   "cell_type": "code",
   "execution_count": 37,
   "metadata": {},
   "outputs": [
    {
     "data": {
      "text/plain": [
       "'m*ss*ss*pp*'"
      ]
     },
     "execution_count": 37,
     "metadata": {},
     "output_type": "execute_result"
    }
   ],
   "source": [
    "strg = \"mississippi\"\n",
    "strg.replace(\"i\", \"*\")"
   ]
  },
  {
   "cell_type": "markdown",
   "metadata": {},
   "source": [
    "#### 2. Default Argument"
   ]
  },
  {
   "cell_type": "code",
   "execution_count": 38,
   "metadata": {},
   "outputs": [
    {
     "name": "stdout",
     "output_type": "stream",
     "text": [
      "Help on built-in function replace:\n",
      "\n",
      "replace(old, new, count=-1, /) method of builtins.str instance\n",
      "    Return a copy with all occurrences of substring old replaced by new.\n",
      "\n",
      "      count\n",
      "        Maximum number of occurrences to replace.\n",
      "        -1 (the default value) means replace all occurrences.\n",
      "\n",
      "    If the optional argument count is given, only the first count occurrences are\n",
      "    replaced.\n",
      "\n"
     ]
    }
   ],
   "source": [
    "help(strg.replace)"
   ]
  },
  {
   "cell_type": "code",
   "execution_count": 39,
   "metadata": {},
   "outputs": [
    {
     "data": {
      "text/plain": [
       "'m*ss*ssippi'"
      ]
     },
     "execution_count": 39,
     "metadata": {},
     "output_type": "execute_result"
    }
   ],
   "source": [
    "strg = \"mississippi\"\n",
    "strg.replace(\"i\", \"*\", 2)"
   ]
  },
  {
   "cell_type": "code",
   "execution_count": 41,
   "metadata": {},
   "outputs": [
    {
     "data": {
      "text/plain": [
       "[0, 1, 2, 3, 4, 5, 6, 7, 8, 9]"
      ]
     },
     "execution_count": 41,
     "metadata": {},
     "output_type": "execute_result"
    }
   ],
   "source": [
    "list(range(10))"
   ]
  },
  {
   "cell_type": "code",
   "execution_count": 42,
   "metadata": {},
   "outputs": [
    {
     "data": {
      "text/plain": [
       "[1, 2, 3, 4, 5, 6, 7, 8, 9]"
      ]
     },
     "execution_count": 42,
     "metadata": {},
     "output_type": "execute_result"
    }
   ],
   "source": [
    "list(range(1, 10))"
   ]
  },
  {
   "cell_type": "code",
   "execution_count": 44,
   "metadata": {},
   "outputs": [
    {
     "name": "stdout",
     "output_type": "stream",
     "text": [
      "Help on built-in function sorted in module builtins:\n",
      "\n",
      "sorted(iterable, /, *, key=None, reverse=False)\n",
      "    Return a new list containing all items from the iterable in ascending order.\n",
      "\n",
      "    A custom key function can be supplied to customize the sort order, and the\n",
      "    reverse flag can be set to request the result in descending order.\n",
      "\n"
     ]
    }
   ],
   "source": [
    "help(sorted)"
   ]
  },
  {
   "cell_type": "markdown",
   "metadata": {},
   "source": [
    "#### 3. Variable Length Argument"
   ]
  },
  {
   "cell_type": "code",
   "execution_count": 45,
   "metadata": {},
   "outputs": [],
   "source": [
    "def func(name, *args, age = 19):\n",
    "    print(f\"Name - {name} | args - {args} | Age - {age}\")"
   ]
  },
  {
   "cell_type": "code",
   "execution_count": 46,
   "metadata": {},
   "outputs": [
    {
     "name": "stdout",
     "output_type": "stream",
     "text": [
      "Name - Jane | args - (70, 80, 90, 50, 20) | Age - 19\n"
     ]
    }
   ],
   "source": [
    "func(\"Jane\", 70, 80, 90, 50, 20)  # all the arguments after name are packed into a tuple 'args'"
   ]
  },
  {
   "cell_type": "code",
   "execution_count": 52,
   "metadata": {},
   "outputs": [
    {
     "name": "stdout",
     "output_type": "stream",
     "text": [
      "Help on built-in function max in module builtins:\n",
      "\n",
      "max(...)\n",
      "    max(iterable, *[, default=obj, key=func]) -> value\n",
      "    max(arg1, arg2, *args, *[, key=func]) -> value\n",
      "\n",
      "    With a single iterable argument, return its biggest item. The\n",
      "    default keyword-only argument specifies an object to return if\n",
      "    the provided iterable is empty.\n",
      "    With two or more arguments, return the largest argument.\n",
      "\n"
     ]
    }
   ],
   "source": [
    "help(max)"
   ]
  },
  {
   "cell_type": "code",
   "execution_count": 53,
   "metadata": {},
   "outputs": [
    {
     "name": "stdout",
     "output_type": "stream",
     "text": [
      "Help on built-in function print in module builtins:\n",
      "\n",
      "print(*args, sep=' ', end='\\n', file=None, flush=False)\n",
      "    Prints the values to a stream, or to sys.stdout by default.\n",
      "\n",
      "    sep\n",
      "      string inserted between values, default a space.\n",
      "    end\n",
      "      string appended after the last value, default a newline.\n",
      "    file\n",
      "      a file-like object (stream); defaults to the current sys.stdout.\n",
      "    flush\n",
      "      whether to forcibly flush the stream.\n",
      "\n"
     ]
    }
   ],
   "source": [
    "help(print)"
   ]
  },
  {
   "cell_type": "code",
   "execution_count": 54,
   "metadata": {},
   "outputs": [
    {
     "name": "stdout",
     "output_type": "stream",
     "text": [
      "jane 30\n"
     ]
    }
   ],
   "source": [
    "print(name, age)"
   ]
  },
  {
   "cell_type": "markdown",
   "metadata": {},
   "source": [
    "#### 4. Key-word Argument"
   ]
  },
  {
   "cell_type": "code",
   "execution_count": 58,
   "metadata": {},
   "outputs": [
    {
     "name": "stdout",
     "output_type": "stream",
     "text": [
      "Name - Jane | args - (70, 80, 90, 50) | Age - 20\n"
     ]
    }
   ],
   "source": [
    "def func(name, *args, age = 19):\n",
    "    print(f\"Name - {name} | args - {args} | Age - {age}\")\n",
    "func(\"Jane\", 70, 80, 90, 50, age = 20) "
   ]
  },
  {
   "cell_type": "markdown",
   "metadata": {},
   "source": [
    "#### 5. Variable Length Key-word Argument"
   ]
  },
  {
   "cell_type": "code",
   "execution_count": 59,
   "metadata": {},
   "outputs": [
    {
     "name": "stdout",
     "output_type": "stream",
     "text": [
      "Name - Jane | args - (70, 80, 90, 50) | Age - 20 | kwargs - {'mob': 98765432, 'gender': 'F'}\n"
     ]
    }
   ],
   "source": [
    "def func(name, *args, age = 19, **kwargs):\n",
    "    print(f\"Name - {name} | args - {args} | Age - {age} | kwargs - {kwargs}\")\n",
    "func(\"Jane\", 70, 80, 90, 50, age = 20, mob = 98765432, gender = \"F\")"
   ]
  },
  {
   "cell_type": "markdown",
   "metadata": {},
   "source": [
    "#### Significance of `/` and `*`"
   ]
  },
  {
   "cell_type": "markdown",
   "metadata": {},
   "source": [
    "- **`/`** - all the arguments before `/` must be positional only\n",
    "- **`*`** - all arguments after `*` must be key-word only  "
   ]
  },
  {
   "cell_type": "code",
   "execution_count": 63,
   "metadata": {},
   "outputs": [
    {
     "name": "stdout",
     "output_type": "stream",
     "text": [
      "Name - Jane | Age - 30\n",
      "Name - Jane | Age - 30\n"
     ]
    }
   ],
   "source": [
    "def func(name, age):\n",
    "    print(f\"Name - {name} | Age - {age}\")\n",
    "\n",
    "func(\"Jane\", 30)  # positional argument\n",
    "func(age = 30, name = \"Jane\") # key-word argument"
   ]
  },
  {
   "cell_type": "code",
   "execution_count": 68,
   "metadata": {},
   "outputs": [
    {
     "name": "stdout",
     "output_type": "stream",
     "text": [
      "Name - Jane | Age - 30\n",
      "Name - Jane | Age - 30\n"
     ]
    },
    {
     "ename": "TypeError",
     "evalue": "func() got some positional-only arguments passed as keyword arguments: 'name'",
     "output_type": "error",
     "traceback": [
      "\u001b[1;31m---------------------------------------------------------------------------\u001b[0m",
      "\u001b[1;31mTypeError\u001b[0m                                 Traceback (most recent call last)",
      "Cell \u001b[1;32mIn[68], line 6\u001b[0m\n\u001b[0;32m      4\u001b[0m func(\u001b[38;5;124m\"\u001b[39m\u001b[38;5;124mJane\u001b[39m\u001b[38;5;124m\"\u001b[39m, \u001b[38;5;241m30\u001b[39m)  \n\u001b[0;32m      5\u001b[0m func(\u001b[38;5;124m\"\u001b[39m\u001b[38;5;124mJane\u001b[39m\u001b[38;5;124m\"\u001b[39m, age \u001b[38;5;241m=\u001b[39m \u001b[38;5;241m30\u001b[39m) \n\u001b[1;32m----> 6\u001b[0m \u001b[43mfunc\u001b[49m\u001b[43m(\u001b[49m\u001b[43mage\u001b[49m\u001b[43m \u001b[49m\u001b[38;5;241;43m=\u001b[39;49m\u001b[43m \u001b[49m\u001b[38;5;241;43m30\u001b[39;49m\u001b[43m,\u001b[49m\u001b[43m \u001b[49m\u001b[43mname\u001b[49m\u001b[43m \u001b[49m\u001b[38;5;241;43m=\u001b[39;49m\u001b[43m \u001b[49m\u001b[38;5;124;43m\"\u001b[39;49m\u001b[38;5;124;43mJane\u001b[39;49m\u001b[38;5;124;43m\"\u001b[39;49m\u001b[43m)\u001b[49m \u001b[38;5;66;03m# Error - name must be positional-only\u001b[39;00m\n",
      "\u001b[1;31mTypeError\u001b[0m: func() got some positional-only arguments passed as keyword arguments: 'name'"
     ]
    }
   ],
   "source": [
    "def func(name, /, age):   # name must be positional only and age can be any type\n",
    "    print(f\"Name - {name} | Age - {age}\")\n",
    "\n",
    "func(\"Jane\", 30)  \n",
    "func(\"Jane\", age = 30) \n",
    "func(age = 30, name = \"Jane\") # Error - name must be positional-only"
   ]
  },
  {
   "cell_type": "code",
   "execution_count": 73,
   "metadata": {},
   "outputs": [
    {
     "name": "stdout",
     "output_type": "stream",
     "text": [
      "Name - Jane | Age - 30\n",
      "Name - Jane | Age - 30\n"
     ]
    },
    {
     "ename": "TypeError",
     "evalue": "func() takes 1 positional argument but 2 were given",
     "output_type": "error",
     "traceback": [
      "\u001b[1;31m---------------------------------------------------------------------------\u001b[0m",
      "\u001b[1;31mTypeError\u001b[0m                                 Traceback (most recent call last)",
      "Cell \u001b[1;32mIn[73], line 6\u001b[0m\n\u001b[0;32m      4\u001b[0m func(\u001b[38;5;124m\"\u001b[39m\u001b[38;5;124mJane\u001b[39m\u001b[38;5;124m\"\u001b[39m, age \u001b[38;5;241m=\u001b[39m \u001b[38;5;241m30\u001b[39m) \n\u001b[0;32m      5\u001b[0m func(age \u001b[38;5;241m=\u001b[39m \u001b[38;5;241m30\u001b[39m, name \u001b[38;5;241m=\u001b[39m \u001b[38;5;124m\"\u001b[39m\u001b[38;5;124mJane\u001b[39m\u001b[38;5;124m\"\u001b[39m) \n\u001b[1;32m----> 6\u001b[0m \u001b[43mfunc\u001b[49m\u001b[43m(\u001b[49m\u001b[38;5;124;43m\"\u001b[39;49m\u001b[38;5;124;43mJane\u001b[39;49m\u001b[38;5;124;43m\"\u001b[39;49m\u001b[43m,\u001b[49m\u001b[43m \u001b[49m\u001b[38;5;241;43m30\u001b[39;49m\u001b[43m)\u001b[49m   \u001b[38;5;66;03m# Error - age must be keyword-only\u001b[39;00m\n",
      "\u001b[1;31mTypeError\u001b[0m: func() takes 1 positional argument but 2 were given"
     ]
    }
   ],
   "source": [
    "def func(name, *, age):  # name can be any type but age must be key-word only\n",
    "    print(f\"Name - {name} | Age - {age}\")\n",
    "\n",
    "func(\"Jane\", age = 30) \n",
    "func(age = 30, name = \"Jane\") \n",
    "func(\"Jane\", 30)   # Error - age must be keyword-only"
   ]
  },
  {
   "cell_type": "markdown",
   "metadata": {},
   "source": [
    "###### Example "
   ]
  },
  {
   "cell_type": "code",
   "execution_count": 74,
   "metadata": {},
   "outputs": [
    {
     "name": "stdout",
     "output_type": "stream",
     "text": [
      "Help on built-in function sorted in module builtins:\n",
      "\n",
      "sorted(iterable, /, *, key=None, reverse=False)\n",
      "    Return a new list containing all items from the iterable in ascending order.\n",
      "\n",
      "    A custom key function can be supplied to customize the sort order, and the\n",
      "    reverse flag can be set to request the result in descending order.\n",
      "\n"
     ]
    }
   ],
   "source": [
    "help(sorted)  # - iterable - require positional | key & reverse - default"
   ]
  },
  {
   "cell_type": "code",
   "execution_count": 75,
   "metadata": {},
   "outputs": [
    {
     "ename": "TypeError",
     "evalue": "sorted expected 1 argument, got 0",
     "output_type": "error",
     "traceback": [
      "\u001b[1;31m---------------------------------------------------------------------------\u001b[0m",
      "\u001b[1;31mTypeError\u001b[0m                                 Traceback (most recent call last)",
      "Cell \u001b[1;32mIn[75], line 1\u001b[0m\n\u001b[1;32m----> 1\u001b[0m \u001b[38;5;28;43msorted\u001b[39;49m\u001b[43m(\u001b[49m\u001b[43miterable\u001b[49m\u001b[43m \u001b[49m\u001b[38;5;241;43m=\u001b[39;49m\u001b[43m \u001b[49m\u001b[43m[\u001b[49m\u001b[38;5;241;43m2\u001b[39;49m\u001b[43m,\u001b[49m\u001b[43m \u001b[49m\u001b[38;5;241;43m1\u001b[39;49m\u001b[43m,\u001b[49m\u001b[43m \u001b[49m\u001b[38;5;241;43m3\u001b[39;49m\u001b[43m,\u001b[49m\u001b[43m \u001b[49m\u001b[38;5;241;43m4\u001b[39;49m\u001b[43m,\u001b[49m\u001b[43m \u001b[49m\u001b[38;5;241;43m5\u001b[39;49m\u001b[43m]\u001b[49m\u001b[43m)\u001b[49m\n",
      "\u001b[1;31mTypeError\u001b[0m: sorted expected 1 argument, got 0"
     ]
    }
   ],
   "source": [
    "sorted(iterable = [2, 1, 3, 4, 5]) # iterable is positional only arg"
   ]
  },
  {
   "cell_type": "code",
   "execution_count": 76,
   "metadata": {},
   "outputs": [
    {
     "ename": "TypeError",
     "evalue": "sorted expected 1 argument, got 3",
     "output_type": "error",
     "traceback": [
      "\u001b[1;31m---------------------------------------------------------------------------\u001b[0m",
      "\u001b[1;31mTypeError\u001b[0m                                 Traceback (most recent call last)",
      "Cell \u001b[1;32mIn[76], line 1\u001b[0m\n\u001b[1;32m----> 1\u001b[0m \u001b[38;5;28;43msorted\u001b[39;49m\u001b[43m(\u001b[49m\u001b[43m[\u001b[49m\u001b[38;5;124;43m\"\u001b[39;49m\u001b[38;5;124;43mcar\u001b[39;49m\u001b[38;5;124;43m\"\u001b[39;49m\u001b[43m,\u001b[49m\u001b[43m \u001b[49m\u001b[38;5;124;43m\"\u001b[39;49m\u001b[38;5;124;43mbike\u001b[39;49m\u001b[38;5;124;43m\"\u001b[39;49m\u001b[43m,\u001b[49m\u001b[43m \u001b[49m\u001b[38;5;124;43m\"\u001b[39;49m\u001b[38;5;124;43mtrain\u001b[39;49m\u001b[38;5;124;43m\"\u001b[39;49m\u001b[43m]\u001b[49m\u001b[43m,\u001b[49m\u001b[43m \u001b[49m\u001b[38;5;28;43mlen\u001b[39;49m\u001b[43m,\u001b[49m\u001b[43m \u001b[49m\u001b[38;5;28;43;01mTrue\u001b[39;49;00m\u001b[43m)\u001b[49m\n",
      "\u001b[1;31mTypeError\u001b[0m: sorted expected 1 argument, got 3"
     ]
    }
   ],
   "source": [
    "sorted([\"car\", \"bike\", \"train\"], len, True)  # key & reverse must key-word only"
   ]
  },
  {
   "cell_type": "code",
   "execution_count": 77,
   "metadata": {},
   "outputs": [
    {
     "data": {
      "text/plain": [
       "['train', 'bike', 'car']"
      ]
     },
     "execution_count": 77,
     "metadata": {},
     "output_type": "execute_result"
    }
   ],
   "source": [
    "sorted([\"car\", \"bike\", \"train\"], key = len, reverse = True)  "
   ]
  },
  {
   "cell_type": "markdown",
   "metadata": {},
   "source": [
    "#### Packing and unpacking of tuples"
   ]
  },
  {
   "cell_type": "code",
   "execution_count": null,
   "metadata": {},
   "outputs": [
    {
     "data": {
      "text/plain": [
       "(10, 20, 30)"
      ]
     },
     "execution_count": 47,
     "metadata": {},
     "output_type": "execute_result"
    }
   ],
   "source": [
    "tup = 10, 20, 30  # packing of tuples\n",
    "tup"
   ]
  },
  {
   "cell_type": "code",
   "execution_count": 48,
   "metadata": {},
   "outputs": [
    {
     "name": "stdout",
     "output_type": "stream",
     "text": [
      "10\n"
     ]
    }
   ],
   "source": [
    "a, b, c = tup  # unpacking of tuples\n",
    "print(a)"
   ]
  },
  {
   "cell_type": "code",
   "execution_count": 50,
   "metadata": {},
   "outputs": [
    {
     "data": {
      "text/plain": [
       "'jane'"
      ]
     },
     "execution_count": 50,
     "metadata": {},
     "output_type": "execute_result"
    }
   ],
   "source": [
    "# Declaring multiple variables in a single line - application of packing and unpacking tuples\n",
    "name, age = \"jane\", 30\n",
    "name"
   ]
  },
  {
   "cell_type": "markdown",
   "metadata": {},
   "source": [
    "###### Example - application of packing and unpacking of tuples wrt function call"
   ]
  },
  {
   "cell_type": "code",
   "execution_count": 78,
   "metadata": {},
   "outputs": [],
   "source": [
    "def func(*args):\n",
    "    print(args)"
   ]
  },
  {
   "cell_type": "code",
   "execution_count": 80,
   "metadata": {},
   "outputs": [
    {
     "name": "stdout",
     "output_type": "stream",
     "text": [
      "(10, 20, 30, 40, 50)\n"
     ]
    }
   ],
   "source": [
    "func(10, 20, 30, 40, 50)  # packing of tuples"
   ]
  },
  {
   "cell_type": "markdown",
   "metadata": {},
   "source": [
    "###### Ex - Write details in a list to a file"
   ]
  },
  {
   "cell_type": "code",
   "execution_count": 83,
   "metadata": {},
   "outputs": [],
   "source": [
    "# available built-in function - \n",
    "def write_to_file(name, age, gender) :\n",
    "    with open(\"details.txt\", \"a\") as file :\n",
    "        file.write(f\"{name} | {age} | {gender}\\n\")\n",
    "        print(f\"Details of {name} added to the file\")"
   ]
  },
  {
   "cell_type": "code",
   "execution_count": 85,
   "metadata": {},
   "outputs": [],
   "source": [
    "data = [\n",
    "    [\"Rosie\", 30, \"F\"],\n",
    "    [\"Jack\", 35, \"M\"],\n",
    "    [\"George\", 28, \"M\"]\n",
    "]"
   ]
  },
  {
   "cell_type": "code",
   "execution_count": 88,
   "metadata": {},
   "outputs": [
    {
     "name": "stdout",
     "output_type": "stream",
     "text": [
      "Details of Rosie added to the file\n",
      "Details of Jack added to the file\n",
      "Details of George added to the file\n"
     ]
    }
   ],
   "source": [
    "for i in data :\n",
    "    write_to_file(*i)  # unpack the elements of the list into variables"
   ]
  },
  {
   "cell_type": "markdown",
   "metadata": {},
   "source": [
    "<hr><hr>"
   ]
  },
  {
   "cell_type": "markdown",
   "metadata": {
    "id": "xOzcD8n0SL0i"
   },
   "source": [
    "# Basics of NumPy\n",
    "- NumPy - Introduction and Installation\n",
    "- NumPy - Arrays Data Structure ( 1D, 2D, ND arrays)\n",
    "- Creating Arrays\n",
    "- NumPy - Data Types\n",
    "- Array Attributes\n",
    "- Creating Arrays – Alternative Ways\n",
    "- Sub-setting, Slicing and Indexing Arrays\n",
    "- Operations on Arrays\n",
    "- Array Manipulation\n"
   ]
  },
  {
   "cell_type": "markdown",
   "metadata": {
    "id": "LJ7zOREKSL0i"
   },
   "source": [
    "### NumPy – Introduction and Installation\n",
    "\n",
    "- NumPy stands for ‘Numeric Python’\n",
    "- Used for mathematical and scientific computations\n",
    "- NumPy array is the most widely used object of the NumPy library"
   ]
  },
  {
   "cell_type": "markdown",
   "metadata": {
    "id": "fSezra2YSL0i"
   },
   "source": [
    "#### Installing numpy"
   ]
  },
  {
   "cell_type": "code",
   "execution_count": 90,
   "metadata": {
    "id": "fSezra2YSL0i"
   },
   "outputs": [
    {
     "name": "stdout",
     "output_type": "stream",
     "text": [
      "Requirement already satisfied: numpy in c:\\users\\vaide\\appdata\\local\\programs\\python\\python312\\lib\\site-packages (2.1.1)\n",
      "Note: you may need to restart the kernel to use updated packages.\n"
     ]
    }
   ],
   "source": [
    "pip install numpy\n",
    "pip install pandas\n",
    "pip install matplotlib\n",
    "pip install seaborn"
   ]
  },
  {
   "cell_type": "markdown",
   "metadata": {
    "id": "NcOwNJMxSL0j"
   },
   "source": [
    "#### Importing numpy"
   ]
  },
  {
   "cell_type": "code",
   "execution_count": 89,
   "metadata": {
    "id": "jbeQqcTmSL0j"
   },
   "outputs": [],
   "source": [
    "import numpy as np\n",
    "import pandas as pd\n",
    "import matplotlib.pyplot as plt\n",
    "import seaborn as sns"
   ]
  },
  {
   "cell_type": "markdown",
   "metadata": {
    "id": "ROKFWY3TSL0j"
   },
   "source": [
    "### Arrays Data Structure\n",
    "\n",
    "An `Array` is combination of homogenous data objects and can be indexed across multiple dimensions\n",
    "\n",
    "#### Arrays are –\n",
    "- ordered sequence/collection of Homogenous data\n",
    "- multidimensional\n",
    "- mutable\n"
   ]
  },
  {
   "cell_type": "markdown",
   "metadata": {
    "id": "vJdSsW-BSL0j"
   },
   "source": [
    "#### Creating Arrays – From list/tuple\n",
    "\n",
    "- `np.array()` is used to create a numpy array from a list\n"
   ]
  },
  {
   "cell_type": "markdown",
   "metadata": {
    "id": "KFMx5EjWSL0j"
   },
   "source": [
    "#### Example on 1-D Array"
   ]
  },
  {
   "cell_type": "code",
   "execution_count": 91,
   "metadata": {
    "id": "oU0mEtv2SL0k"
   },
   "outputs": [
    {
     "data": {
      "text/plain": [
       "array([1, 2, 3, 4, 5])"
      ]
     },
     "execution_count": 91,
     "metadata": {},
     "output_type": "execute_result"
    }
   ],
   "source": [
    "arr = np.array([1, 2, 3, 4, 5])\n",
    "arr"
   ]
  },
  {
   "cell_type": "markdown",
   "metadata": {
    "id": "69nYrHhdSL0k"
   },
   "source": [
    "#### Example on 2-D Array"
   ]
  },
  {
   "cell_type": "code",
   "execution_count": 92,
   "metadata": {
    "id": "bFqhOlvKSL0k"
   },
   "outputs": [
    {
     "data": {
      "text/plain": [
       "array([[ 1,  2,  3,  4,  5],\n",
       "       [ 6,  7,  8,  9, 10]])"
      ]
     },
     "execution_count": 92,
     "metadata": {},
     "output_type": "execute_result"
    }
   ],
   "source": [
    "arr = np.array([[1, 2, 3, 4, 5], [6, 7, 8, 9, 10]])\n",
    "arr"
   ]
  },
  {
   "cell_type": "markdown",
   "metadata": {
    "id": "SyU2wAzwSL0o"
   },
   "source": [
    "### Array Attributes\n",
    "\n",
    "- Attributes are the features/characteristics of an object that describes the object\n",
    "\n",
    "- Some of the attributes of the numpy array are:\n",
    "    - **shape** - Array dimensions\n",
    "    - **size** - Number of array elements\n",
    "    - **dtype** - Data type of array elements\n",
    "    - **ndim** - Number of array dimensions\n",
    "    - **dtype.name** - Name of data type\n",
    "    - **astype** - Convert an array to a different type\n"
   ]
  },
  {
   "cell_type": "code",
   "execution_count": 93,
   "metadata": {
    "id": "s9MiADM0SL0p"
   },
   "outputs": [
    {
     "data": {
      "text/plain": [
       "array([[ 1,  2,  3,  4],\n",
       "       [ 5,  6,  7,  8],\n",
       "       [ 9, 10, 11, 12]])"
      ]
     },
     "execution_count": 93,
     "metadata": {},
     "output_type": "execute_result"
    }
   ],
   "source": [
    "arr = np.array([[1,2,3,4],[5,6,7,8],[9,10,11,12]])\n",
    "arr"
   ]
  },
  {
   "cell_type": "code",
   "execution_count": 94,
   "metadata": {
    "id": "tsamJYYFSL0p"
   },
   "outputs": [
    {
     "data": {
      "text/plain": [
       "(3, 4)"
      ]
     },
     "execution_count": 94,
     "metadata": {},
     "output_type": "execute_result"
    }
   ],
   "source": [
    "arr.shape  # - (row, cols)"
   ]
  },
  {
   "cell_type": "code",
   "execution_count": 95,
   "metadata": {
    "id": "vCvDRDdESL0q"
   },
   "outputs": [
    {
     "data": {
      "text/plain": [
       "12"
      ]
     },
     "execution_count": 95,
     "metadata": {},
     "output_type": "execute_result"
    }
   ],
   "source": [
    "arr.size"
   ]
  },
  {
   "cell_type": "code",
   "execution_count": 96,
   "metadata": {
    "id": "jf04b9bMSL0q"
   },
   "outputs": [
    {
     "data": {
      "text/plain": [
       "2"
      ]
     },
     "execution_count": 96,
     "metadata": {},
     "output_type": "execute_result"
    }
   ],
   "source": [
    "arr.ndim"
   ]
  },
  {
   "cell_type": "code",
   "execution_count": 97,
   "metadata": {
    "id": "T39NHKUfSL0q"
   },
   "outputs": [
    {
     "data": {
      "text/plain": [
       "dtype('int64')"
      ]
     },
     "execution_count": 97,
     "metadata": {},
     "output_type": "execute_result"
    }
   ],
   "source": [
    "arr.dtype"
   ]
  },
  {
   "cell_type": "code",
   "execution_count": 98,
   "metadata": {
    "id": "2_Lpf6lISL0r"
   },
   "outputs": [
    {
     "data": {
      "text/plain": [
       "array([[ 1.,  2.,  3.,  4.],\n",
       "       [ 5.,  6.,  7.,  8.],\n",
       "       [ 9., 10., 11., 12.]])"
      ]
     },
     "execution_count": 98,
     "metadata": {},
     "output_type": "execute_result"
    }
   ],
   "source": [
    "arr.astype(float)"
   ]
  },
  {
   "cell_type": "markdown",
   "metadata": {
    "id": "JF39DOA2SL0r"
   },
   "source": [
    "### Indexing, Slicing and Boolen Indexing"
   ]
  },
  {
   "cell_type": "code",
   "execution_count": 99,
   "metadata": {
    "id": "w0wK9_kOSL0r"
   },
   "outputs": [
    {
     "data": {
      "text/plain": [
       "array([12, 34, 32, 27, 13,  8, 19, 16, 19, 26], dtype=int32)"
      ]
     },
     "execution_count": 99,
     "metadata": {},
     "output_type": "execute_result"
    }
   ],
   "source": [
    "arr = np.random.randint(5, 50, size = 10)\n",
    "arr"
   ]
  },
  {
   "cell_type": "markdown",
   "metadata": {
    "id": "yODYAc7iSL0u"
   },
   "source": [
    "#### 1-D Arrays"
   ]
  },
  {
   "cell_type": "markdown",
   "metadata": {
    "id": "dAJTxG88SL0u"
   },
   "source": [
    "###### Ex. Extract first 3 elements"
   ]
  },
  {
   "cell_type": "code",
   "execution_count": 100,
   "metadata": {
    "id": "DutZE2c9SL0v"
   },
   "outputs": [
    {
     "data": {
      "text/plain": [
       "array([12, 34, 32], dtype=int32)"
      ]
     },
     "execution_count": 100,
     "metadata": {},
     "output_type": "execute_result"
    }
   ],
   "source": [
    "arr[0:3]"
   ]
  },
  {
   "cell_type": "markdown",
   "metadata": {
    "id": "Uhah9JyBSL0v"
   },
   "source": [
    "###### Ex. Extract last 5 elements"
   ]
  },
  {
   "cell_type": "code",
   "execution_count": 101,
   "metadata": {
    "id": "1PNWHks3SL0v"
   },
   "outputs": [
    {
     "data": {
      "text/plain": [
       "array([ 8, 19, 16, 19, 26], dtype=int32)"
      ]
     },
     "execution_count": 101,
     "metadata": {},
     "output_type": "execute_result"
    }
   ],
   "source": [
    "arr[-5 : ]"
   ]
  },
  {
   "cell_type": "markdown",
   "metadata": {},
   "source": [
    "###### Ex. Extract element at position 2"
   ]
  },
  {
   "cell_type": "code",
   "execution_count": 103,
   "metadata": {},
   "outputs": [
    {
     "data": {
      "text/plain": [
       "np.int32(32)"
      ]
     },
     "execution_count": 103,
     "metadata": {},
     "output_type": "execute_result"
    }
   ],
   "source": [
    "arr[2]  # indexing"
   ]
  },
  {
   "cell_type": "markdown",
   "metadata": {
    "id": "nGjuAzZHSL0v"
   },
   "source": [
    "###### Ex. Extract elements at index position 2, 5, 9."
   ]
  },
  {
   "cell_type": "code",
   "execution_count": 102,
   "metadata": {
    "id": "lDjyIKdJSL0v"
   },
   "outputs": [
    {
     "data": {
      "text/plain": [
       "array([32,  8, 26], dtype=int32)"
      ]
     },
     "execution_count": 102,
     "metadata": {},
     "output_type": "execute_result"
    }
   ],
   "source": [
    "arr[[2, 5, 9]]  # indexing on mutiple positions"
   ]
  },
  {
   "cell_type": "code",
   "execution_count": 104,
   "metadata": {
    "id": "lDjyIKdJSL0v"
   },
   "outputs": [
    {
     "data": {
      "text/plain": [
       "array([26, 32,  8], dtype=int32)"
      ]
     },
     "execution_count": 104,
     "metadata": {},
     "output_type": "execute_result"
    }
   ],
   "source": [
    "arr[[9, 2, 5]]  # indexing on mutiple positions"
   ]
  },
  {
   "cell_type": "markdown",
   "metadata": {
    "id": "IuRLmBMNSL0w"
   },
   "source": [
    "###### Ex. Extract elements less than 20"
   ]
  },
  {
   "cell_type": "code",
   "execution_count": 105,
   "metadata": {
    "id": "VoOlfr4zSL0w"
   },
   "outputs": [
    {
     "data": {
      "text/plain": [
       "array([ True, False, False, False,  True,  True,  True,  True,  True,\n",
       "       False])"
      ]
     },
     "execution_count": 105,
     "metadata": {},
     "output_type": "execute_result"
    }
   ],
   "source": [
    "# Filtering based on condition\n",
    "arr < 20  # returns a bool array"
   ]
  },
  {
   "cell_type": "code",
   "execution_count": 107,
   "metadata": {
    "id": "VoOlfr4zSL0w"
   },
   "outputs": [
    {
     "data": {
      "text/plain": [
       "array([12, 13,  8, 19, 16, 19], dtype=int32)"
      ]
     },
     "execution_count": 107,
     "metadata": {},
     "output_type": "execute_result"
    }
   ],
   "source": [
    "# Filtering based on condition\n",
    "arr[arr < 20]  "
   ]
  },
  {
   "cell_type": "markdown",
   "metadata": {
    "id": "mLixUpi0SL0w"
   },
   "source": [
    "### 2-D Arrays"
   ]
  },
  {
   "cell_type": "code",
   "execution_count": 108,
   "metadata": {
    "id": "HtpgnYXSSL0w"
   },
   "outputs": [
    {
     "data": {
      "text/plain": [
       "array([[ 9, 49, 39, 41],\n",
       "       [32, 40, 42, 16],\n",
       "       [22, 14, 13, 49],\n",
       "       [ 9, 49, 44, 17],\n",
       "       [12, 13, 43,  8],\n",
       "       [48, 45, 47, 15]], dtype=int32)"
      ]
     },
     "execution_count": 108,
     "metadata": {},
     "output_type": "execute_result"
    }
   ],
   "source": [
    "arr = np.random.randint(5, 50, size = (6,4))\n",
    "arr"
   ]
  },
  {
   "cell_type": "markdown",
   "metadata": {
    "id": "m_vUEuzbSL0x"
   },
   "source": [
    "###### Ex. Extract first 3 rows"
   ]
  },
  {
   "cell_type": "code",
   "execution_count": 109,
   "metadata": {
    "id": "9fOmVOtdSL0x"
   },
   "outputs": [
    {
     "data": {
      "text/plain": [
       "array([[ 9, 49, 39, 41],\n",
       "       [32, 40, 42, 16],\n",
       "       [22, 14, 13, 49]], dtype=int32)"
      ]
     },
     "execution_count": 109,
     "metadata": {},
     "output_type": "execute_result"
    }
   ],
   "source": [
    "arr[0:3]"
   ]
  },
  {
   "cell_type": "markdown",
   "metadata": {
    "id": "Ea2Yy2HDSL0x"
   },
   "source": [
    "###### Ex. Extract last 2 rows"
   ]
  },
  {
   "cell_type": "code",
   "execution_count": 110,
   "metadata": {
    "id": "Xs_Cwn-ZSL0x"
   },
   "outputs": [
    {
     "data": {
      "text/plain": [
       "array([[12, 13, 43,  8],\n",
       "       [48, 45, 47, 15]], dtype=int32)"
      ]
     },
     "execution_count": 110,
     "metadata": {},
     "output_type": "execute_result"
    }
   ],
   "source": [
    "arr[-2 :]"
   ]
  },
  {
   "cell_type": "markdown",
   "metadata": {
    "id": "lgo1AB3ESL0x"
   },
   "source": [
    "###### Ex. Extract column at index 1"
   ]
  },
  {
   "cell_type": "code",
   "execution_count": 111,
   "metadata": {
    "id": "p8au-IOpSL0y"
   },
   "outputs": [
    {
     "data": {
      "text/plain": [
       "array([49, 40, 14, 49, 13, 45], dtype=int32)"
      ]
     },
     "execution_count": 111,
     "metadata": {},
     "output_type": "execute_result"
    }
   ],
   "source": [
    "arr[ : , 1]  # returns 1D array"
   ]
  },
  {
   "cell_type": "markdown",
   "metadata": {
    "id": "rFF5yf_VSL0y"
   },
   "source": [
    "###### Ex. Extract row 2 and 3 and column 2 and 3 (index-wise)"
   ]
  },
  {
   "cell_type": "code",
   "execution_count": 112,
   "metadata": {
    "id": "CsnE4pTDSL0y"
   },
   "outputs": [
    {
     "data": {
      "text/plain": [
       "array([[13, 49],\n",
       "       [44, 17]], dtype=int32)"
      ]
     },
     "execution_count": 112,
     "metadata": {},
     "output_type": "execute_result"
    }
   ],
   "source": [
    "arr[2:4, 2:4]"
   ]
  },
  {
   "cell_type": "markdown",
   "metadata": {
    "id": "zKiuKqHrSL0z"
   },
   "source": [
    "###### Ex. Extract values less than 25"
   ]
  },
  {
   "cell_type": "code",
   "execution_count": 113,
   "metadata": {
    "id": "9E1oeOkISL0z"
   },
   "outputs": [
    {
     "data": {
      "text/plain": [
       "array([ 9, 16, 22, 14, 13,  9, 17, 12, 13,  8, 15], dtype=int32)"
      ]
     },
     "execution_count": 113,
     "metadata": {},
     "output_type": "execute_result"
    }
   ],
   "source": [
    "arr[arr < 25]"
   ]
  },
  {
   "cell_type": "markdown",
   "metadata": {
    "id": "sXaOomI2SL0z"
   },
   "source": [
    "###### Ex. Identify largest value. Extract values less than half of largest values"
   ]
  },
  {
   "cell_type": "code",
   "execution_count": 118,
   "metadata": {
    "id": "XXpP7USOSL01"
   },
   "outputs": [
    {
     "data": {
      "text/plain": [
       "array([ 9, 16, 22, 14, 13,  9, 17, 12, 13,  8, 15], dtype=int32)"
      ]
     },
     "execution_count": 118,
     "metadata": {},
     "output_type": "execute_result"
    }
   ],
   "source": [
    "arr[arr < np.max(arr)/2]"
   ]
  },
  {
   "cell_type": "markdown",
   "metadata": {
    "id": "6hnOmvBUSL02"
   },
   "source": [
    "### Examples on Coffee Shop Data Set"
   ]
  },
  {
   "cell_type": "markdown",
   "metadata": {
    "id": "B_3v9PyCSL04"
   },
   "source": [
    "#### Coffee Shop\n",
    "\n",
    "Mr. Alex owns a huge chain of coffee shop franchises. His franchises are spread across various states in India. There are in all 13 products sold across 156 franchises. Each franchise manager records their monthly sales and profits and compares with its corresponding targeted values. Let us start learning various attributes of numpy and pandas using the Coffee Shop dataset.\n",
    "\n",
    "\n",
    "Fields in dataset -\n",
    "\n",
    "- Product Name\n",
    "- Actual Sales\n",
    "- Actual Profits\n",
    "- Targeted Sales\n",
    "- Targeted Profits"
   ]
  },
  {
   "cell_type": "markdown",
   "metadata": {
    "id": "dlcvWrFGSL04"
   },
   "source": [
    "#### Ex.  Create an array of coffee products, sales and profits"
   ]
  },
  {
   "cell_type": "code",
   "execution_count": 120,
   "metadata": {
    "id": "6iL0ny6ZSL04"
   },
   "outputs": [],
   "source": [
    "coffee_products = np.array(['Caffe Latte', 'Cappuccino', 'Colombian', 'Darjeeling', 'Decaf Irish Cream', 'Earl Grey', 'Green Tea', 'Lemon', 'Mint', 'Regular Espresso'])\n",
    "sales = np.array( [52248.0, 14068.0, 71060.0, 60014.0, 69925.0, 27711.0, 19231.0, 24873.0, 32825.0, 44109.0])\n",
    "profits = np.array([17444.0, 5041.0, 28390.0, 20459.0, 23432.0, 7691.0, -2954.0, 7159.0, 10722.0, 14902.0])"
   ]
  },
  {
   "cell_type": "markdown",
   "metadata": {
    "id": "j1h8L0jJSL05"
   },
   "source": [
    "###### Ex. How many products are there in the dataset?"
   ]
  },
  {
   "cell_type": "code",
   "execution_count": 121,
   "metadata": {
    "id": "98ihS30uSL05"
   },
   "outputs": [
    {
     "data": {
      "text/plain": [
       "10"
      ]
     },
     "execution_count": 121,
     "metadata": {},
     "output_type": "execute_result"
    }
   ],
   "source": [
    "coffee_products.size"
   ]
  },
  {
   "cell_type": "markdown",
   "metadata": {
    "id": "UW9madYjSL05"
   },
   "source": [
    "###### Ex.  Sales greater than 50,000"
   ]
  },
  {
   "cell_type": "code",
   "execution_count": 122,
   "metadata": {
    "id": "bOtCGXSOSL05"
   },
   "outputs": [
    {
     "data": {
      "text/plain": [
       "array([52248., 71060., 60014., 69925.])"
      ]
     },
     "execution_count": 122,
     "metadata": {},
     "output_type": "execute_result"
    }
   ],
   "source": [
    "sales[sales > 50000]"
   ]
  },
  {
   "cell_type": "markdown",
   "metadata": {
    "id": "_ijOWUacSL06"
   },
   "source": [
    "###### Ex.  Identify Losses"
   ]
  },
  {
   "cell_type": "code",
   "execution_count": 123,
   "metadata": {
    "id": "wVySmDIZSL06"
   },
   "outputs": [
    {
     "data": {
      "text/plain": [
       "array([-2954.])"
      ]
     },
     "execution_count": 123,
     "metadata": {},
     "output_type": "execute_result"
    }
   ],
   "source": [
    "profits[profits < 0]"
   ]
  },
  {
   "cell_type": "markdown",
   "metadata": {
    "id": "cTpzhm0HSL07"
   },
   "source": [
    "###### Ex.  Products in loss"
   ]
  },
  {
   "cell_type": "code",
   "execution_count": 124,
   "metadata": {
    "id": "it6cc5HqSL07"
   },
   "outputs": [
    {
     "data": {
      "text/plain": [
       "array(['Green Tea'], dtype='<U17')"
      ]
     },
     "execution_count": 124,
     "metadata": {},
     "output_type": "execute_result"
    }
   ],
   "source": [
    "coffee_products[profits < 0]"
   ]
  },
  {
   "cell_type": "markdown",
   "metadata": {
    "id": "LpKYrC0GSL07"
   },
   "source": [
    "###### Ex.  Product with maximum Sales"
   ]
  },
  {
   "cell_type": "code",
   "execution_count": 126,
   "metadata": {
    "id": "YSpuF0cASL07"
   },
   "outputs": [
    {
     "data": {
      "text/plain": [
       "array(['Colombian'], dtype='<U17')"
      ]
     },
     "execution_count": 126,
     "metadata": {},
     "output_type": "execute_result"
    }
   ],
   "source": [
    "coffee_products[sales == max(sales)]"
   ]
  },
  {
   "cell_type": "code",
   "execution_count": 127,
   "metadata": {
    "id": "YSpuF0cASL07"
   },
   "outputs": [
    {
     "data": {
      "text/plain": [
       "np.str_('Colombian')"
      ]
     },
     "execution_count": 127,
     "metadata": {},
     "output_type": "execute_result"
    }
   ],
   "source": [
    "coffee_products[sales == max(sales)][0]"
   ]
  },
  {
   "cell_type": "markdown",
   "metadata": {
    "id": "fL2XoRrBSL07"
   },
   "source": [
    "### Array Operations"
   ]
  },
  {
   "cell_type": "markdown",
   "metadata": {
    "id": "g8EECkQKSL08"
   },
   "source": [
    "#### Arithmetic operations on Arrays -\n",
    " - Addition, Substraction, Multiplication, Division, etc.\n",
    " - Operations on array and a scalar value\n",
    " - Operations between two arrays\n",
    " - Matrix Operations - Multiplication(np.dot()), Transpose(np.transpose())\n"
   ]
  },
  {
   "cell_type": "markdown",
   "metadata": {
    "id": "R4EU3ag3SL09"
   },
   "source": [
    "#### Array and Scalar"
   ]
  },
  {
   "cell_type": "code",
   "execution_count": 128,
   "metadata": {
    "id": "1iA_t7hFSL09"
   },
   "outputs": [
    {
     "data": {
      "text/plain": [
       "array([7, 7, 6, 2, 4], dtype=int32)"
      ]
     },
     "execution_count": 128,
     "metadata": {},
     "output_type": "execute_result"
    }
   ],
   "source": [
    "arr1 = np.random.randint(1,10,size = 5)\n",
    "arr1"
   ]
  },
  {
   "cell_type": "code",
   "execution_count": 129,
   "metadata": {
    "id": "2qrteupNSL09"
   },
   "outputs": [
    {
     "data": {
      "text/plain": [
       "array([12, 12, 11,  7,  9], dtype=int32)"
      ]
     },
     "execution_count": 129,
     "metadata": {},
     "output_type": "execute_result"
    }
   ],
   "source": [
    "arr1 + 5 # Addition"
   ]
  },
  {
   "cell_type": "code",
   "execution_count": 130,
   "metadata": {
    "id": "7m2YLJDwSL09"
   },
   "outputs": [
    {
     "data": {
      "text/plain": [
       "array([ 2,  2,  1, -3, -1], dtype=int32)"
      ]
     },
     "execution_count": 130,
     "metadata": {},
     "output_type": "execute_result"
    }
   ],
   "source": [
    "arr1 - 5 # Substraction"
   ]
  },
  {
   "cell_type": "code",
   "execution_count": 131,
   "metadata": {
    "id": "WZdyCcBaSL0-"
   },
   "outputs": [
    {
     "data": {
      "text/plain": [
       "array([35, 35, 30, 10, 20], dtype=int32)"
      ]
     },
     "execution_count": 131,
     "metadata": {},
     "output_type": "execute_result"
    }
   ],
   "source": [
    "arr1 * 5 # Multiplication"
   ]
  },
  {
   "cell_type": "code",
   "execution_count": 132,
   "metadata": {
    "id": "mAY1w9a4SL0-"
   },
   "outputs": [
    {
     "data": {
      "text/plain": [
       "array([1.4, 1.4, 1.2, 0.4, 0.8])"
      ]
     },
     "execution_count": 132,
     "metadata": {},
     "output_type": "execute_result"
    }
   ],
   "source": [
    "arr1 / 5 # Division"
   ]
  },
  {
   "cell_type": "code",
   "execution_count": 133,
   "metadata": {
    "id": "GpOMqLWaSL0-"
   },
   "outputs": [
    {
     "data": {
      "text/plain": [
       "array([1, 1, 1, 0, 0], dtype=int32)"
      ]
     },
     "execution_count": 133,
     "metadata": {},
     "output_type": "execute_result"
    }
   ],
   "source": [
    "arr1 // 5 # Floor Division"
   ]
  },
  {
   "cell_type": "code",
   "execution_count": 134,
   "metadata": {
    "id": "wFbDqcnxSL0-"
   },
   "outputs": [
    {
     "data": {
      "text/plain": [
       "array([2, 2, 1, 2, 4], dtype=int32)"
      ]
     },
     "execution_count": 134,
     "metadata": {},
     "output_type": "execute_result"
    }
   ],
   "source": [
    "arr1 % 5 # Modulus"
   ]
  },
  {
   "cell_type": "markdown",
   "metadata": {
    "id": "sRLJ1oBhSL0-"
   },
   "source": [
    "#### Two Arrays"
   ]
  },
  {
   "cell_type": "code",
   "execution_count": 135,
   "metadata": {
    "id": "APmPJ9P4SL0_"
   },
   "outputs": [
    {
     "data": {
      "text/plain": [
       "array([8, 6, 2, 7, 3], dtype=int32)"
      ]
     },
     "execution_count": 135,
     "metadata": {},
     "output_type": "execute_result"
    }
   ],
   "source": [
    "arr1 = np.random.randint(1,10,size = 5)\n",
    "arr1"
   ]
  },
  {
   "cell_type": "code",
   "execution_count": 136,
   "metadata": {
    "id": "lqqwcLVNSL1A"
   },
   "outputs": [
    {
     "data": {
      "text/plain": [
       "array([6, 5, 1, 5, 6], dtype=int32)"
      ]
     },
     "execution_count": 136,
     "metadata": {},
     "output_type": "execute_result"
    }
   ],
   "source": [
    "arr2 = np.random.randint(1,10,size = 5)\n",
    "arr2"
   ]
  },
  {
   "cell_type": "code",
   "execution_count": 137,
   "metadata": {
    "id": "Icrg6invSL1A"
   },
   "outputs": [
    {
     "data": {
      "text/plain": [
       "array([14, 11,  3, 12,  9], dtype=int32)"
      ]
     },
     "execution_count": 137,
     "metadata": {},
     "output_type": "execute_result"
    }
   ],
   "source": [
    "arr1 + arr2 # Addition"
   ]
  },
  {
   "cell_type": "code",
   "execution_count": 138,
   "metadata": {
    "id": "gCG2nLndSL1B"
   },
   "outputs": [
    {
     "data": {
      "text/plain": [
       "array([ 2,  1,  1,  2, -3], dtype=int32)"
      ]
     },
     "execution_count": 138,
     "metadata": {},
     "output_type": "execute_result"
    }
   ],
   "source": [
    "arr1 - arr2 # Substraction"
   ]
  },
  {
   "cell_type": "code",
   "execution_count": 139,
   "metadata": {
    "id": "uqcUDPGjSL1C"
   },
   "outputs": [
    {
     "data": {
      "text/plain": [
       "array([48, 30,  2, 35, 18], dtype=int32)"
      ]
     },
     "execution_count": 139,
     "metadata": {},
     "output_type": "execute_result"
    }
   ],
   "source": [
    "arr1 * arr2 # Multiplication"
   ]
  },
  {
   "cell_type": "code",
   "execution_count": 140,
   "metadata": {
    "id": "eGRzXiMUSL1C"
   },
   "outputs": [
    {
     "data": {
      "text/plain": [
       "array([1.33333333, 1.2       , 2.        , 1.4       , 0.5       ])"
      ]
     },
     "execution_count": 140,
     "metadata": {},
     "output_type": "execute_result"
    }
   ],
   "source": [
    "arr1 / arr2 # Division"
   ]
  },
  {
   "cell_type": "code",
   "execution_count": 141,
   "metadata": {
    "id": "xv1ue7W3SL1D"
   },
   "outputs": [
    {
     "data": {
      "text/plain": [
       "array([1, 1, 2, 1, 0], dtype=int32)"
      ]
     },
     "execution_count": 141,
     "metadata": {},
     "output_type": "execute_result"
    }
   ],
   "source": [
    "arr1 // arr2 # Floor Division"
   ]
  },
  {
   "cell_type": "code",
   "execution_count": 142,
   "metadata": {
    "id": "QEVSfPoHSL1D"
   },
   "outputs": [
    {
     "data": {
      "text/plain": [
       "array([2, 1, 0, 2, 3], dtype=int32)"
      ]
     },
     "execution_count": 142,
     "metadata": {},
     "output_type": "execute_result"
    }
   ],
   "source": [
    "arr1 % arr2 # Modulus"
   ]
  },
  {
   "cell_type": "markdown",
   "metadata": {
    "id": "I7MMbiDUSL1D"
   },
   "source": [
    "#### Relational operations on Arrays -\n",
    " - ==, !=, <, >, <=, >=\n",
    " - Operations on array and a scalar value\n",
    " - Operations between two arrays"
   ]
  },
  {
   "cell_type": "markdown",
   "metadata": {
    "id": "risXX05xSL1E"
   },
   "source": [
    "#### Array and Scalar"
   ]
  },
  {
   "cell_type": "code",
   "execution_count": 143,
   "metadata": {
    "id": "RG6UknSxSL1E"
   },
   "outputs": [
    {
     "data": {
      "text/plain": [
       "array([7, 3, 7, 7, 7], dtype=int32)"
      ]
     },
     "execution_count": 143,
     "metadata": {},
     "output_type": "execute_result"
    }
   ],
   "source": [
    "arr1 = np.random.randint(1,10,size = 5)\n",
    "arr1"
   ]
  },
  {
   "cell_type": "code",
   "execution_count": 144,
   "metadata": {
    "id": "CMv1sBdxSL1E"
   },
   "outputs": [
    {
     "data": {
      "text/plain": [
       "array([False, False, False, False, False])"
      ]
     },
     "execution_count": 144,
     "metadata": {},
     "output_type": "execute_result"
    }
   ],
   "source": [
    "arr1 == 5"
   ]
  },
  {
   "cell_type": "code",
   "execution_count": 145,
   "metadata": {
    "id": "MFce5HMESL1M"
   },
   "outputs": [
    {
     "data": {
      "text/plain": [
       "array([ True,  True,  True,  True,  True])"
      ]
     },
     "execution_count": 145,
     "metadata": {},
     "output_type": "execute_result"
    }
   ],
   "source": [
    "arr1 != 5"
   ]
  },
  {
   "cell_type": "code",
   "execution_count": 146,
   "metadata": {
    "id": "r884EP-vSL1M"
   },
   "outputs": [
    {
     "data": {
      "text/plain": [
       "array([False,  True, False, False, False])"
      ]
     },
     "execution_count": 146,
     "metadata": {},
     "output_type": "execute_result"
    }
   ],
   "source": [
    "arr1 < 5"
   ]
  },
  {
   "cell_type": "code",
   "execution_count": 147,
   "metadata": {
    "id": "zP_0B3XXSL1M"
   },
   "outputs": [
    {
     "data": {
      "text/plain": [
       "array([ True, False,  True,  True,  True])"
      ]
     },
     "execution_count": 147,
     "metadata": {},
     "output_type": "execute_result"
    }
   ],
   "source": [
    "arr1 > 5"
   ]
  },
  {
   "cell_type": "code",
   "execution_count": 148,
   "metadata": {
    "id": "UuR2SeMaSL1M"
   },
   "outputs": [
    {
     "data": {
      "text/plain": [
       "array([False,  True, False, False, False])"
      ]
     },
     "execution_count": 148,
     "metadata": {},
     "output_type": "execute_result"
    }
   ],
   "source": [
    "arr1 <= 5"
   ]
  },
  {
   "cell_type": "code",
   "execution_count": 149,
   "metadata": {
    "id": "2CCAoZQRSL1M"
   },
   "outputs": [
    {
     "data": {
      "text/plain": [
       "array([ True, False,  True,  True,  True])"
      ]
     },
     "execution_count": 149,
     "metadata": {},
     "output_type": "execute_result"
    }
   ],
   "source": [
    "arr1 >= 5"
   ]
  },
  {
   "cell_type": "markdown",
   "metadata": {
    "id": "w3NB0RylSL1N"
   },
   "source": [
    "#### Two Arrays"
   ]
  },
  {
   "cell_type": "code",
   "execution_count": 150,
   "metadata": {
    "id": "er1RGQtbSL1N"
   },
   "outputs": [
    {
     "data": {
      "text/plain": [
       "array([1, 4, 1, 8, 4], dtype=int32)"
      ]
     },
     "execution_count": 150,
     "metadata": {},
     "output_type": "execute_result"
    }
   ],
   "source": [
    "arr1 = np.random.randint(1,10,size = 5)\n",
    "arr1"
   ]
  },
  {
   "cell_type": "code",
   "execution_count": 151,
   "metadata": {
    "id": "e1IoaYKPSL1N"
   },
   "outputs": [
    {
     "data": {
      "text/plain": [
       "array([9, 1, 2, 6, 5], dtype=int32)"
      ]
     },
     "execution_count": 151,
     "metadata": {},
     "output_type": "execute_result"
    }
   ],
   "source": [
    "arr2 = np.random.randint(1,10,size = 5)\n",
    "arr2"
   ]
  },
  {
   "cell_type": "code",
   "execution_count": 152,
   "metadata": {
    "id": "BxafJwk4SL1O"
   },
   "outputs": [
    {
     "data": {
      "text/plain": [
       "array([False, False, False, False, False])"
      ]
     },
     "execution_count": 152,
     "metadata": {},
     "output_type": "execute_result"
    }
   ],
   "source": [
    "arr1 == arr2"
   ]
  },
  {
   "cell_type": "code",
   "execution_count": 153,
   "metadata": {
    "id": "tFH3rjbGSL1O"
   },
   "outputs": [
    {
     "data": {
      "text/plain": [
       "array([ True,  True,  True,  True,  True])"
      ]
     },
     "execution_count": 153,
     "metadata": {},
     "output_type": "execute_result"
    }
   ],
   "source": [
    "arr1 != arr2"
   ]
  },
  {
   "cell_type": "code",
   "execution_count": 154,
   "metadata": {
    "id": "20PlGh-3SL1O"
   },
   "outputs": [
    {
     "data": {
      "text/plain": [
       "array([ True, False,  True, False,  True])"
      ]
     },
     "execution_count": 154,
     "metadata": {},
     "output_type": "execute_result"
    }
   ],
   "source": [
    "arr1 < arr2"
   ]
  },
  {
   "cell_type": "code",
   "execution_count": 155,
   "metadata": {
    "id": "w_286kkxSL1O"
   },
   "outputs": [
    {
     "data": {
      "text/plain": [
       "array([False,  True, False,  True, False])"
      ]
     },
     "execution_count": 155,
     "metadata": {},
     "output_type": "execute_result"
    }
   ],
   "source": [
    "arr1 > arr2"
   ]
  },
  {
   "cell_type": "code",
   "execution_count": 156,
   "metadata": {
    "id": "GYgNtmYoSL1O"
   },
   "outputs": [
    {
     "data": {
      "text/plain": [
       "array([ True, False,  True, False,  True])"
      ]
     },
     "execution_count": 156,
     "metadata": {},
     "output_type": "execute_result"
    }
   ],
   "source": [
    "arr1 <= arr2"
   ]
  },
  {
   "cell_type": "code",
   "execution_count": 157,
   "metadata": {
    "id": "1VHrwXl1SL1O"
   },
   "outputs": [
    {
     "data": {
      "text/plain": [
       "array([False,  True, False,  True, False])"
      ]
     },
     "execution_count": 157,
     "metadata": {},
     "output_type": "execute_result"
    }
   ],
   "source": [
    "arr1 >= arr2"
   ]
  },
  {
   "cell_type": "markdown",
   "metadata": {
    "id": "Y55RGzk3SL1P"
   },
   "source": [
    "#### Logical operations on Arrays -\n",
    " - np.logical_or()\n",
    " - np.logical_and()\n",
    " - np.logical_not()\n",
    " - np.logical_xor()"
   ]
  },
  {
   "cell_type": "code",
   "execution_count": 158,
   "metadata": {
    "id": "r6tvDGICSL1P"
   },
   "outputs": [
    {
     "data": {
      "text/plain": [
       "array([1, 8, 7, 5, 6], dtype=int32)"
      ]
     },
     "execution_count": 158,
     "metadata": {},
     "output_type": "execute_result"
    }
   ],
   "source": [
    "arr1 = np.random.randint(1,10,size = 5)\n",
    "arr1"
   ]
  },
  {
   "cell_type": "code",
   "execution_count": 159,
   "metadata": {
    "id": "8-nIMvyRSL1P"
   },
   "outputs": [
    {
     "data": {
      "text/plain": [
       "array([4, 3, 9, 8, 2], dtype=int32)"
      ]
     },
     "execution_count": 159,
     "metadata": {},
     "output_type": "execute_result"
    }
   ],
   "source": [
    "arr2 = np.random.randint(1,10,size = 5)\n",
    "arr2"
   ]
  },
  {
   "cell_type": "code",
   "execution_count": 160,
   "metadata": {
    "id": "BLIWNGK_SL1Q"
   },
   "outputs": [
    {
     "data": {
      "text/plain": [
       "array([False, False,  True, False, False])"
      ]
     },
     "execution_count": 160,
     "metadata": {},
     "output_type": "execute_result"
    }
   ],
   "source": [
    "np.logical_and(arr1 > 5, arr2 > 5)"
   ]
  },
  {
   "cell_type": "code",
   "execution_count": 161,
   "metadata": {
    "id": "K_NhIUWpSL1Q"
   },
   "outputs": [
    {
     "data": {
      "text/plain": [
       "array([False,  True,  True,  True,  True])"
      ]
     },
     "execution_count": 161,
     "metadata": {},
     "output_type": "execute_result"
    }
   ],
   "source": [
    "np.logical_or(arr1 > 5, arr2 > 5)"
   ]
  },
  {
   "cell_type": "code",
   "execution_count": 162,
   "metadata": {
    "id": "wrdhpg4xSL1Q"
   },
   "outputs": [
    {
     "data": {
      "text/plain": [
       "array([ True, False, False,  True, False])"
      ]
     },
     "execution_count": 162,
     "metadata": {},
     "output_type": "execute_result"
    }
   ],
   "source": [
    "np.logical_not(arr1 > 5)"
   ]
  },
  {
   "cell_type": "code",
   "execution_count": 163,
   "metadata": {
    "id": "l7EPY8FISL1Q"
   },
   "outputs": [
    {
     "data": {
      "text/plain": [
       "array([False,  True, False,  True,  True])"
      ]
     },
     "execution_count": 163,
     "metadata": {},
     "output_type": "execute_result"
    }
   ],
   "source": [
    "np.logical_xor(arr1 > 5, arr2 > 5)"
   ]
  },
  {
   "cell_type": "markdown",
   "metadata": {
    "id": "kAETb-iDSL1Q"
   },
   "source": [
    "#### Set Operations on Arrays\n",
    "\n",
    "Applicable to 1-D Ararys only\n",
    "\n",
    "- np.unique() - Find the unique elements of an array.\n",
    "- np.in1d() - Test whether each element of a 1-D array is also present in a second array.\n",
    "- np.intersect1d() - Find the intersection of two arrays.\n",
    "- np.setdiff1d() - Find the set difference of two arrays.\n",
    "- np.union1d() - Find the union of two arrays."
   ]
  },
  {
   "cell_type": "code",
   "execution_count": 164,
   "metadata": {
    "id": "30d56VmZSL1Q"
   },
   "outputs": [
    {
     "data": {
      "text/plain": [
       "array([6, 2, 7, 7, 6, 9, 3, 9, 6, 5], dtype=int32)"
      ]
     },
     "execution_count": 164,
     "metadata": {},
     "output_type": "execute_result"
    }
   ],
   "source": [
    "arr1 = np.random.randint(1, 10, size = 10)\n",
    "arr1"
   ]
  },
  {
   "cell_type": "code",
   "execution_count": 165,
   "metadata": {},
   "outputs": [
    {
     "data": {
      "text/plain": [
       "array([2, 3, 5, 6, 7, 9], dtype=int32)"
      ]
     },
     "execution_count": 165,
     "metadata": {},
     "output_type": "execute_result"
    }
   ],
   "source": [
    "np.unique(arr1)"
   ]
  },
  {
   "cell_type": "code",
   "execution_count": 166,
   "metadata": {},
   "outputs": [
    {
     "data": {
      "text/plain": [
       "(array([2, 3, 5, 6, 7, 9], dtype=int32),\n",
       " array([1, 6, 9, 0, 2, 5]),\n",
       " array([1, 1, 1, 3, 2, 2]))"
      ]
     },
     "execution_count": 166,
     "metadata": {},
     "output_type": "execute_result"
    }
   ],
   "source": [
    "np.unique(arr1, return_index= True, return_counts=True)"
   ]
  },
  {
   "cell_type": "code",
   "execution_count": 167,
   "metadata": {},
   "outputs": [
    {
     "data": {
      "text/plain": [
       "array([4, 1, 3, 2, 1, 1, 4, 1, 4, 1], dtype=int32)"
      ]
     },
     "execution_count": 167,
     "metadata": {},
     "output_type": "execute_result"
    }
   ],
   "source": [
    "arr2 = np.random.randint(1, 5, size = 10)\n",
    "arr2"
   ]
  },
  {
   "cell_type": "code",
   "execution_count": 168,
   "metadata": {},
   "outputs": [
    {
     "name": "stderr",
     "output_type": "stream",
     "text": [
      "C:\\Users\\vaide\\AppData\\Local\\Temp\\ipykernel_18584\\3141298059.py:1: DeprecationWarning: `in1d` is deprecated. Use `np.isin` instead.\n",
      "  np.in1d(arr1, arr2)\n"
     ]
    },
    {
     "data": {
      "text/plain": [
       "array([False,  True, False, False, False, False,  True, False, False,\n",
       "       False])"
      ]
     },
     "execution_count": 168,
     "metadata": {},
     "output_type": "execute_result"
    }
   ],
   "source": [
    "np.in1d(arr1, arr2)  # depricated in 3.12 onwards"
   ]
  },
  {
   "cell_type": "code",
   "execution_count": 169,
   "metadata": {},
   "outputs": [
    {
     "data": {
      "text/plain": [
       "array([False,  True, False, False, False, False,  True, False, False,\n",
       "       False])"
      ]
     },
     "execution_count": 169,
     "metadata": {},
     "output_type": "execute_result"
    }
   ],
   "source": [
    "np.isin(arr1, arr2)  # alternate for in1d()"
   ]
  },
  {
   "cell_type": "code",
   "execution_count": 170,
   "metadata": {},
   "outputs": [
    {
     "data": {
      "text/plain": [
       "array([1, 2, 3, 4, 5, 6, 7, 9], dtype=int32)"
      ]
     },
     "execution_count": 170,
     "metadata": {},
     "output_type": "execute_result"
    }
   ],
   "source": [
    "np.union1d(arr1, arr2)"
   ]
  },
  {
   "cell_type": "code",
   "execution_count": 171,
   "metadata": {},
   "outputs": [
    {
     "data": {
      "text/plain": [
       "array([2, 3], dtype=int32)"
      ]
     },
     "execution_count": 171,
     "metadata": {},
     "output_type": "execute_result"
    }
   ],
   "source": [
    "np.intersect1d(arr1, arr2)"
   ]
  },
  {
   "cell_type": "markdown",
   "metadata": {
    "id": "GtcdxsPeSL1R"
   },
   "source": [
    "### Array Functions/Methods\n",
    "\n",
    "- np.all(), np.any()\n",
    "- arr.sum()\n",
    "- arr.min(), arr.max(), arr.argmin(), arr.agrmax()\n",
    "- np.round()\n",
    "- np.mean(), np.median(), np.average(), np.percentile()\n"
   ]
  },
  {
   "cell_type": "code",
   "execution_count": 172,
   "metadata": {
    "id": "9FVuOgKwSL1R"
   },
   "outputs": [
    {
     "data": {
      "text/plain": [
       "np.False_"
      ]
     },
     "execution_count": 172,
     "metadata": {},
     "output_type": "execute_result"
    }
   ],
   "source": [
    "np.all(np.isin(arr1, arr2))  # all elements of arr1 are not in arr2"
   ]
  },
  {
   "cell_type": "markdown",
   "metadata": {
    "id": "ByeUJWTKSL1R"
   },
   "source": [
    "###### Ex. Find the product with max sales"
   ]
  },
  {
   "cell_type": "code",
   "execution_count": 174,
   "metadata": {
    "id": "Nylx9gcXSL1R"
   },
   "outputs": [
    {
     "data": {
      "text/plain": [
       "array(['Colombian'], dtype='<U17')"
      ]
     },
     "execution_count": 174,
     "metadata": {},
     "output_type": "execute_result"
    }
   ],
   "source": [
    "coffee_products[sales == max(sales)]"
   ]
  },
  {
   "cell_type": "code",
   "execution_count": 175,
   "metadata": {
    "id": "nnStDwpSSL1S"
   },
   "outputs": [
    {
     "data": {
      "text/plain": [
       "np.int64(2)"
      ]
     },
     "execution_count": 175,
     "metadata": {},
     "output_type": "execute_result"
    }
   ],
   "source": [
    "sales.argmax() # returns index position of max element"
   ]
  },
  {
   "cell_type": "code",
   "execution_count": 176,
   "metadata": {
    "id": "dqHX2lk4SL1S"
   },
   "outputs": [
    {
     "data": {
      "text/plain": [
       "np.str_('Colombian')"
      ]
     },
     "execution_count": 176,
     "metadata": {},
     "output_type": "execute_result"
    }
   ],
   "source": [
    "coffee_products[sales.argmax()]  # returns a str in this case"
   ]
  },
  {
   "cell_type": "markdown",
   "metadata": {
    "id": "S6uI_EFZSL1S"
   },
   "source": [
    "### Examples on Coffee Shop Data Set\n"
   ]
  },
  {
   "cell_type": "markdown",
   "metadata": {
    "id": "cOTA4dHhSL1T"
   },
   "source": [
    "#### Data"
   ]
  },
  {
   "cell_type": "code",
   "execution_count": 177,
   "metadata": {
    "id": "ibL-ILsPSL1T"
   },
   "outputs": [],
   "source": [
    "import numpy as np\n",
    "products = np.array(['Caffe Latte', 'Cappuccino', 'Colombian', 'Darjeeling', 'Decaf Irish Cream', 'Earl Grey', 'Green Tea', 'Lemon', 'Mint', 'Regular Espresso'])\n",
    "sales = np.array([52248.0, 14068.0, 71060.0, 60014.0, 69925.0, 27711.0, 19231.0, 24873.0, 32825.0, 44109.0])\n",
    "profits = np.array([17444.0, 5041.0, 28390.0, 20459.0, 23432.0, 7691.0, -2954.0, 7159.0, 10722.0, 14902.0])\n",
    "target_profits = np.array([15934.0, 4924.0, 31814.0, 19649.0, 24934.0, 8461.0, 7090.0, 7084.0, 10135.0, 16306.0])\n",
    "target_sales = np.array([48909.0, 13070.0, 80916.0, 57368.0, 66906.0, 30402.0, 18212.0, 21628.0, 27336.0, 42102.0])"
   ]
  },
  {
   "cell_type": "markdown",
   "metadata": {
    "id": "OoVeUOFLSL1T"
   },
   "source": [
    "###### Ex. Identify the products meeting the Target Profits"
   ]
  },
  {
   "cell_type": "code",
   "execution_count": 180,
   "metadata": {
    "id": "etgX_PQTSL1T"
   },
   "outputs": [
    {
     "data": {
      "text/plain": [
       "array(['Caffe Latte', 'Cappuccino', 'Darjeeling', 'Lemon', 'Mint'],\n",
       "      dtype='<U17')"
      ]
     },
     "execution_count": 180,
     "metadata": {},
     "output_type": "execute_result"
    }
   ],
   "source": [
    "profit_ach = products[profits >= target_profits]\n",
    "profit_ach"
   ]
  },
  {
   "cell_type": "markdown",
   "metadata": {
    "id": "b0jZ7CRkSL1U"
   },
   "source": [
    "###### Ex. Are the above products meeting their sales target too?"
   ]
  },
  {
   "cell_type": "code",
   "execution_count": 181,
   "metadata": {
    "id": "KKT4QSeUaLFS"
   },
   "outputs": [
    {
     "data": {
      "text/plain": [
       "array(['Caffe Latte', 'Cappuccino', 'Darjeeling', 'Decaf Irish Cream',\n",
       "       'Green Tea', 'Lemon', 'Mint', 'Regular Espresso'], dtype='<U17')"
      ]
     },
     "execution_count": 181,
     "metadata": {},
     "output_type": "execute_result"
    }
   ],
   "source": [
    "sales_ach = products[sales >= target_sales]\n",
    "sales_ach"
   ]
  },
  {
   "cell_type": "code",
   "execution_count": 190,
   "metadata": {},
   "outputs": [
    {
     "name": "stdout",
     "output_type": "stream",
     "text": [
      "Yes all profit target achievers are also sales achievers ['Caffe Latte' 'Cappuccino' 'Darjeeling' 'Lemon' 'Mint']\n"
     ]
    }
   ],
   "source": [
    "if np.all(np.isin(profit_ach, sales_ach)) :\n",
    "    print(\"Yes all profit target achievers are also sales achievers\", profit_ach)\n",
    "else:\n",
    "    print(f\"No! These products do not achieve sales target - {np.setdiff1d(profit_ach, sales_ach)}\")"
   ]
  },
  {
   "cell_type": "code",
   "execution_count": 189,
   "metadata": {},
   "outputs": [
    {
     "name": "stdout",
     "output_type": "stream",
     "text": [
      "No! These products do not achieve profit target - ['Decaf Irish Cream' 'Green Tea' 'Regular Espresso']\n"
     ]
    }
   ],
   "source": [
    "if np.all(np.isin(sales_ach, profit_ach)) :\n",
    "    print(\"Yes all sales target achievers are also profit achievers\", profit_ach)\n",
    "else:\n",
    "    print(f\"No! These products do not achieve profit target - {np.setdiff1d(sales_ach, profit_ach)}\")"
   ]
  },
  {
   "cell_type": "code",
   "execution_count": null,
   "metadata": {},
   "outputs": [],
   "source": []
  },
  {
   "cell_type": "code",
   "execution_count": null,
   "metadata": {},
   "outputs": [],
   "source": []
  },
  {
   "cell_type": "markdown",
   "metadata": {
    "id": "0fMLMsHCSL1U"
   },
   "source": [
    "### Array Manipulations\n",
    "\n",
    "- **Changing Shape** – np.reshape()\n",
    "- **Adding/Removing Elements** – np.append(), np.insert(), np.delete()\n",
    "- **Splitting Arrays** – np.hsplit(), np.vsplit(), arr_obj.flatten()\n",
    "- **Sorting Arrays** - arr_obj.sort(), arr_obj.argsort()"
   ]
  },
  {
   "cell_type": "code",
   "execution_count": 191,
   "metadata": {
    "id": "W3Lx8bLQSL1V"
   },
   "outputs": [
    {
     "data": {
      "text/plain": [
       "array([ 1,  2,  3,  4,  5,  6,  7,  8,  9, 10, 11, 12])"
      ]
     },
     "execution_count": 191,
     "metadata": {},
     "output_type": "execute_result"
    }
   ],
   "source": [
    "arr = np.arange(1, 13)\n",
    "arr"
   ]
  },
  {
   "cell_type": "markdown",
   "metadata": {
    "id": "76JffXiQSL1V"
   },
   "source": [
    "#### np.reshape()"
   ]
  },
  {
   "cell_type": "code",
   "execution_count": 192,
   "metadata": {
    "id": "lszpvd0QSL1V"
   },
   "outputs": [
    {
     "data": {
      "text/plain": [
       "array([[ 1,  2,  3],\n",
       "       [ 4,  5,  6],\n",
       "       [ 7,  8,  9],\n",
       "       [10, 11, 12]])"
      ]
     },
     "execution_count": 192,
     "metadata": {},
     "output_type": "execute_result"
    }
   ],
   "source": [
    "arr = np.reshape(arr, (4, 3))\n",
    "arr"
   ]
  },
  {
   "cell_type": "markdown",
   "metadata": {
    "id": "oRl19_P8SL1V"
   },
   "source": [
    "#### np.append()"
   ]
  },
  {
   "cell_type": "code",
   "execution_count": 193,
   "metadata": {
    "id": "eD-xawjvSL1V"
   },
   "outputs": [
    {
     "data": {
      "text/plain": [
       "array([ 1,  2,  3,  4,  5,  6,  7,  8,  9, 10, 11, 12, 10, 20, 30, 50, 40,\n",
       "       60])"
      ]
     },
     "execution_count": 193,
     "metadata": {},
     "output_type": "execute_result"
    }
   ],
   "source": [
    "np.append(arr, [10,20,30, 50, 40, 60]) # Flattens the array"
   ]
  },
  {
   "cell_type": "code",
   "execution_count": 195,
   "metadata": {},
   "outputs": [
    {
     "data": {
      "text/plain": [
       "array([[ 1,  2,  3],\n",
       "       [ 4,  5,  6],\n",
       "       [ 7,  8,  9],\n",
       "       [10, 11, 12],\n",
       "       [13, 14, 15]])"
      ]
     },
     "execution_count": 195,
     "metadata": {},
     "output_type": "execute_result"
    }
   ],
   "source": [
    "np.append(arr, np.reshape(np.array([13, 14, 15]), (1, 3)), axis = 0) # axis = 0 denotes row-wise"
   ]
  },
  {
   "cell_type": "code",
   "execution_count": 197,
   "metadata": {},
   "outputs": [
    {
     "data": {
      "text/plain": [
       "array([[ 1,  2,  3, 10],\n",
       "       [ 4,  5,  6, 20],\n",
       "       [ 7,  8,  9, 30],\n",
       "       [10, 11, 12, 40]])"
      ]
     },
     "execution_count": 197,
     "metadata": {},
     "output_type": "execute_result"
    }
   ],
   "source": [
    "np.append(arr, np.reshape(np.array([10, 20, 30, 40]), (4, 1)), axis = 1) # axis = 1 denotes col-wise"
   ]
  },
  {
   "cell_type": "markdown",
   "metadata": {
    "id": "FmxAPLupSL1W"
   },
   "source": [
    "#### np.insert()"
   ]
  },
  {
   "cell_type": "code",
   "execution_count": 198,
   "metadata": {
    "id": "-348fjyjSL1W"
   },
   "outputs": [
    {
     "data": {
      "text/plain": [
       "array([[ 1,  2,  3],\n",
       "       [ 4,  5,  6],\n",
       "       [ 7,  8,  9],\n",
       "       [10, 11, 12]])"
      ]
     },
     "execution_count": 198,
     "metadata": {},
     "output_type": "execute_result"
    }
   ],
   "source": [
    "arr = np.reshape(np.arange(1,13), (4,3))\n",
    "arr"
   ]
  },
  {
   "cell_type": "code",
   "execution_count": 199,
   "metadata": {
    "id": "7790frJvSL1X"
   },
   "outputs": [
    {
     "data": {
      "text/plain": [
       "array([ 1,  5,  2,  3,  4,  5,  6,  7,  8,  9, 10, 11, 12])"
      ]
     },
     "execution_count": 199,
     "metadata": {},
     "output_type": "execute_result"
    }
   ],
   "source": [
    "np.insert(arr, 1, 5) # Flattens the arr and inserts 5 at index 1"
   ]
  },
  {
   "cell_type": "code",
   "execution_count": 200,
   "metadata": {
    "id": "zlobpnLuSL1Z"
   },
   "outputs": [
    {
     "data": {
      "text/plain": [
       "array([[ 1,  2,  3],\n",
       "       [ 5,  5,  5],\n",
       "       [ 4,  5,  6],\n",
       "       [ 7,  8,  9],\n",
       "       [10, 11, 12]])"
      ]
     },
     "execution_count": 200,
     "metadata": {},
     "output_type": "execute_result"
    }
   ],
   "source": [
    "np.insert(arr, 1, 5, axis=0) # Inserts [5, 5, 5] as row 1"
   ]
  },
  {
   "cell_type": "code",
   "execution_count": 201,
   "metadata": {
    "id": "vu59b1XbSL1a"
   },
   "outputs": [
    {
     "data": {
      "text/plain": [
       "array([[ 1,  5,  2,  3],\n",
       "       [ 4,  5,  5,  6],\n",
       "       [ 7,  5,  8,  9],\n",
       "       [10,  5, 11, 12]])"
      ]
     },
     "execution_count": 201,
     "metadata": {},
     "output_type": "execute_result"
    }
   ],
   "source": [
    "np.insert(arr, 1, 5, axis=1) # Inserts [5, 5, 5, 5] as column 1"
   ]
  },
  {
   "cell_type": "code",
   "execution_count": 202,
   "metadata": {
    "id": "IshmcWfLSL1a"
   },
   "outputs": [
    {
     "data": {
      "text/plain": [
       "array([[ 1, 10,  2,  3],\n",
       "       [ 4, 20,  5,  6],\n",
       "       [ 7, 30,  8,  9],\n",
       "       [10, 40, 11, 12]])"
      ]
     },
     "execution_count": 202,
     "metadata": {},
     "output_type": "execute_result"
    }
   ],
   "source": [
    "np.insert(arr, 1, [10, 20, 30, 40], axis=1)"
   ]
  },
  {
   "cell_type": "code",
   "execution_count": 203,
   "metadata": {
    "id": "SjY7Zk99SL1a"
   },
   "outputs": [
    {
     "data": {
      "text/plain": [
       "array([[ 1,  2,  3],\n",
       "       [10, 20, 30],\n",
       "       [ 4,  5,  6],\n",
       "       [ 7,  8,  9],\n",
       "       [10, 11, 12]])"
      ]
     },
     "execution_count": 203,
     "metadata": {},
     "output_type": "execute_result"
    }
   ],
   "source": [
    "np.insert(arr, 1, [10, 20, 30], axis=0)"
   ]
  },
  {
   "cell_type": "markdown",
   "metadata": {
    "id": "Rkb1mtVlSL1a"
   },
   "source": [
    "#### np.delete()"
   ]
  },
  {
   "cell_type": "code",
   "execution_count": 204,
   "metadata": {
    "id": "1LshS_7-SL1a"
   },
   "outputs": [
    {
     "data": {
      "text/plain": [
       "array([[ 1,  2,  3],\n",
       "       [ 4,  5,  6],\n",
       "       [ 7,  8,  9],\n",
       "       [10, 11, 12]])"
      ]
     },
     "execution_count": 204,
     "metadata": {},
     "output_type": "execute_result"
    }
   ],
   "source": [
    "arr = np.reshape(np.arange(1,13), (4,3))\n",
    "arr"
   ]
  },
  {
   "cell_type": "code",
   "execution_count": 205,
   "metadata": {
    "id": "2npy2ILdSL1b"
   },
   "outputs": [
    {
     "data": {
      "text/plain": [
       "array([ 1,  3,  4,  5,  6,  7,  8,  9, 10, 11, 12])"
      ]
     },
     "execution_count": 205,
     "metadata": {},
     "output_type": "execute_result"
    }
   ],
   "source": [
    "np.delete(arr, 1) # Flattens the arr and deletes element at index 1"
   ]
  },
  {
   "cell_type": "code",
   "execution_count": 206,
   "metadata": {
    "id": "lzZICc76SL1b"
   },
   "outputs": [
    {
     "data": {
      "text/plain": [
       "array([[ 1,  2,  3],\n",
       "       [ 7,  8,  9],\n",
       "       [10, 11, 12]])"
      ]
     },
     "execution_count": 206,
     "metadata": {},
     "output_type": "execute_result"
    }
   ],
   "source": [
    "np.delete(arr, 1, axis=0) # deletes row 1"
   ]
  },
  {
   "cell_type": "code",
   "execution_count": 207,
   "metadata": {
    "id": "7gzPkIY2SL1b"
   },
   "outputs": [
    {
     "data": {
      "text/plain": [
       "array([[ 1,  3],\n",
       "       [ 4,  6],\n",
       "       [ 7,  9],\n",
       "       [10, 12]])"
      ]
     },
     "execution_count": 207,
     "metadata": {},
     "output_type": "execute_result"
    }
   ],
   "source": [
    "np.delete(arr, 1, axis=1) # deletes column 1"
   ]
  },
  {
   "cell_type": "code",
   "execution_count": 208,
   "metadata": {
    "id": "QSKdbkWWSL1c"
   },
   "outputs": [
    {
     "data": {
      "text/plain": [
       "array([[ 4,  5,  6],\n",
       "       [10, 11, 12]])"
      ]
     },
     "execution_count": 208,
     "metadata": {},
     "output_type": "execute_result"
    }
   ],
   "source": [
    "np.delete(arr,[0,2], axis=0) # deletes selected rows"
   ]
  },
  {
   "cell_type": "code",
   "execution_count": 209,
   "metadata": {
    "id": "Br8pH50ZSL1c"
   },
   "outputs": [
    {
     "data": {
      "text/plain": [
       "array([[ 2],\n",
       "       [ 5],\n",
       "       [ 8],\n",
       "       [11]])"
      ]
     },
     "execution_count": 209,
     "metadata": {},
     "output_type": "execute_result"
    }
   ],
   "source": [
    "np.delete(arr,[0,2], axis=1) # deletes selected columns"
   ]
  },
  {
   "cell_type": "markdown",
   "metadata": {
    "id": "qKuII5G5SL1d"
   },
   "source": [
    "#### np.hsplit(), np.vsplit()"
   ]
  },
  {
   "cell_type": "code",
   "execution_count": 210,
   "metadata": {
    "id": "G9Vgyyu4SL1d"
   },
   "outputs": [
    {
     "data": {
      "text/plain": [
       "array([[ 1,  2,  3,  4],\n",
       "       [ 5,  6,  7,  8],\n",
       "       [ 9, 10, 11, 12],\n",
       "       [13, 14, 15, 16],\n",
       "       [17, 18, 19, 20],\n",
       "       [21, 22, 23, 24]])"
      ]
     },
     "execution_count": 210,
     "metadata": {},
     "output_type": "execute_result"
    }
   ],
   "source": [
    "arr = np.reshape(np.arange(1, 25), (6,4))\n",
    "arr"
   ]
  },
  {
   "cell_type": "code",
   "execution_count": 211,
   "metadata": {
    "id": "D0aZdlUYSL1d"
   },
   "outputs": [
    {
     "data": {
      "text/plain": [
       "[array([[ 1,  2,  3,  4],\n",
       "        [ 5,  6,  7,  8],\n",
       "        [ 9, 10, 11, 12]]),\n",
       " array([[13, 14, 15, 16],\n",
       "        [17, 18, 19, 20],\n",
       "        [21, 22, 23, 24]])]"
      ]
     },
     "execution_count": 211,
     "metadata": {},
     "output_type": "execute_result"
    }
   ],
   "source": [
    "np.vsplit(arr, 2)"
   ]
  },
  {
   "cell_type": "code",
   "execution_count": 212,
   "metadata": {
    "id": "o85kXgOySL1d"
   },
   "outputs": [
    {
     "data": {
      "text/plain": [
       "[array([[ 1,  2],\n",
       "        [ 5,  6],\n",
       "        [ 9, 10],\n",
       "        [13, 14],\n",
       "        [17, 18],\n",
       "        [21, 22]]),\n",
       " array([[ 3,  4],\n",
       "        [ 7,  8],\n",
       "        [11, 12],\n",
       "        [15, 16],\n",
       "        [19, 20],\n",
       "        [23, 24]])]"
      ]
     },
     "execution_count": 212,
     "metadata": {},
     "output_type": "execute_result"
    }
   ],
   "source": [
    "np.hsplit(arr, 2)"
   ]
  },
  {
   "cell_type": "markdown",
   "metadata": {
    "id": "HUuAK26fSL1d"
   },
   "source": [
    "#### flatten()"
   ]
  },
  {
   "cell_type": "code",
   "execution_count": 213,
   "metadata": {
    "id": "pZOR76k6SL1e"
   },
   "outputs": [
    {
     "data": {
      "text/plain": [
       "array([[ 1,  2,  3,  4],\n",
       "       [ 5,  6,  7,  8],\n",
       "       [ 9, 10, 11, 12],\n",
       "       [13, 14, 15, 16],\n",
       "       [17, 18, 19, 20],\n",
       "       [21, 22, 23, 24]])"
      ]
     },
     "execution_count": 213,
     "metadata": {},
     "output_type": "execute_result"
    }
   ],
   "source": [
    "arr"
   ]
  },
  {
   "cell_type": "code",
   "execution_count": 215,
   "metadata": {
    "id": "agJMSAfnSL1e"
   },
   "outputs": [
    {
     "data": {
      "text/plain": [
       "array([ 1,  2,  3,  4,  5,  6,  7,  8,  9, 10, 11, 12, 13, 14, 15, 16, 17,\n",
       "       18, 19, 20, 21, 22, 23, 24])"
      ]
     },
     "execution_count": 215,
     "metadata": {},
     "output_type": "execute_result"
    }
   ],
   "source": [
    "arr.flatten() # returns a 1-D array"
   ]
  },
  {
   "cell_type": "code",
   "execution_count": 214,
   "metadata": {
    "id": "agJMSAfnSL1e"
   },
   "outputs": [
    {
     "data": {
      "text/plain": [
       "array([ 1,  5,  9, 13, 17, 21,  2,  6, 10, 14, 18, 22,  3,  7, 11, 15, 19,\n",
       "       23,  4,  8, 12, 16, 20, 24])"
      ]
     },
     "execution_count": 214,
     "metadata": {},
     "output_type": "execute_result"
    }
   ],
   "source": [
    "arr.flatten(order = \"F\") # returns a 1-D array"
   ]
  },
  {
   "cell_type": "code",
   "execution_count": null,
   "metadata": {
    "id": "TCVZAK-hSL1e"
   },
   "outputs": [],
   "source": [
    "help(arr.flatten)"
   ]
  },
  {
   "cell_type": "markdown",
   "metadata": {},
   "source": [
    "### Sorting Arrays"
   ]
  },
  {
   "cell_type": "markdown",
   "metadata": {},
   "source": [
    "###### Ex. Identify products which are not achieving their profit target. Calculate their target status in percentage. Display the products in DESC order of their percentage status"
   ]
  },
  {
   "cell_type": "code",
   "execution_count": 243,
   "metadata": {},
   "outputs": [
    {
     "data": {
      "text/plain": [
       "array([False, False,  True, False,  True,  True,  True, False, False,\n",
       "        True])"
      ]
     },
     "execution_count": 243,
     "metadata": {},
     "output_type": "execute_result"
    }
   ],
   "source": [
    "profits < target_profits"
   ]
  },
  {
   "cell_type": "code",
   "execution_count": 236,
   "metadata": {},
   "outputs": [],
   "source": [
    "off_products = products[profits < target_profits]\n",
    "off_targets = target_profits[profits < target_profits]\n",
    "off_profits = profits[profits < target_profits]"
   ]
  },
  {
   "cell_type": "code",
   "execution_count": 237,
   "metadata": {},
   "outputs": [
    {
     "data": {
      "text/plain": [
       "array([89.24, 93.98, 90.9 ,  0.  , 91.39])"
      ]
     },
     "execution_count": 237,
     "metadata": {},
     "output_type": "execute_result"
    }
   ],
   "source": [
    "percentage = np.round(off_profits/off_targets * 100, 2)\n",
    "percentage[percentage < 0] = 0\n",
    "percentage"
   ]
  },
  {
   "cell_type": "code",
   "execution_count": 239,
   "metadata": {},
   "outputs": [
    {
     "data": {
      "text/plain": [
       "array([1, 4, 2, 0, 3])"
      ]
     },
     "execution_count": 239,
     "metadata": {},
     "output_type": "execute_result"
    }
   ],
   "source": [
    "sort_order = percentage.argsort()[::-1]\n",
    "sort_order  # Sorts the array and returns the index position os the sorted elements from the original array"
   ]
  },
  {
   "cell_type": "code",
   "execution_count": 240,
   "metadata": {},
   "outputs": [],
   "source": [
    "off_products = off_products[sort_order]\n",
    "percentage = percentage[sort_order]"
   ]
  },
  {
   "cell_type": "code",
   "execution_count": 241,
   "metadata": {},
   "outputs": [
    {
     "data": {
      "text/plain": [
       "[(np.str_('Decaf Irish Cream'), np.float64(93.98)),\n",
       " (np.str_('Regular Espresso'), np.float64(91.39)),\n",
       " (np.str_('Earl Grey'), np.float64(90.9)),\n",
       " (np.str_('Colombian'), np.float64(89.24)),\n",
       " (np.str_('Green Tea'), np.float64(0.0))]"
      ]
     },
     "execution_count": 241,
     "metadata": {},
     "output_type": "execute_result"
    }
   ],
   "source": [
    "list(zip(off_products, percentage))"
   ]
  },
  {
   "cell_type": "code",
   "execution_count": 242,
   "metadata": {},
   "outputs": [
    {
     "name": "stdout",
     "output_type": "stream",
     "text": [
      "Decaf Irish Cream has achieved 93.98% of its targets\n",
      "Regular Espresso has achieved 91.39% of its targets\n",
      "Earl Grey has achieved 90.9% of its targets\n",
      "Colombian has achieved 89.24% of its targets\n",
      "Green Tea has achieved 0.0% of its targets\n"
     ]
    }
   ],
   "source": [
    "for i, j in zip(off_products, percentage) :\n",
    "    print(f\"{i} has achieved {j}% of its targets\")"
   ]
  },
  {
   "cell_type": "markdown",
   "metadata": {},
   "source": [
    "<hr><hr>"
   ]
  }
 ],
 "metadata": {
  "colab": {
   "provenance": []
  },
  "kernelspec": {
   "display_name": "Python 3 (ipykernel)",
   "language": "python",
   "name": "python3"
  },
  "language_info": {
   "codemirror_mode": {
    "name": "ipython",
    "version": 3
   },
   "file_extension": ".py",
   "mimetype": "text/x-python",
   "name": "python",
   "nbconvert_exporter": "python",
   "pygments_lexer": "ipython3",
   "version": "3.12.4"
  }
 },
 "nbformat": 4,
 "nbformat_minor": 4
}
